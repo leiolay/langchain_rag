{
 "cells": [
  {
   "cell_type": "markdown",
   "id": "e561e1b6",
   "metadata": {},
   "source": [
    "# Building an ITSG-33 RAG chatbot with LangChain, Hugging Face, FAISS, Amazon SageMaker and Amazon Textract"
   ]
  },
  {
   "cell_type": "code",
   "execution_count": 1,
   "id": "a6e7b807",
   "metadata": {},
   "outputs": [
    {
     "name": "stderr",
     "output_type": "stream",
     "text": [
      "\u001b[31mERROR: pip's dependency resolver does not currently take into account all the packages that are installed. This behaviour is the source of the following dependency conflicts.\n",
      "jupyter-ai-magics 2.15.0 requires langchain<0.2.0,>=0.1.0, but you have langchain 0.2.1 which is incompatible.\n",
      "langchain-community 0.0.38 requires langchain-core<0.2.0,>=0.1.52, but you have langchain-core 0.2.3 which is incompatible.\u001b[0m\u001b[31m\n",
      "\u001b[0m"
     ]
    }
   ],
   "source": [
    "%%sh\n",
    "pip install sagemaker langchain amazon-textract-caller amazon-textract-textractor sentence-transformers pypdf pip install faiss-cpu -qU"
   ]
  },
  {
   "cell_type": "code",
   "execution_count": 2,
   "id": "91613d24",
   "metadata": {},
   "outputs": [
    {
     "name": "stdout",
     "output_type": "stream",
     "text": [
      "sagemaker.config INFO - Not applying SDK defaults from location: /etc/xdg/sagemaker/config.yaml\n",
      "sagemaker.config INFO - Not applying SDK defaults from location: /home/sagemaker-user/.config/sagemaker/config.yaml\n"
     ]
    }
   ],
   "source": [
    "import boto3, json, sagemaker\n",
    "from typing import Dict\n",
    "from langchain import LLMChain\n",
    "from langchain.docstore.document import Document\n",
    "from langchain.prompts import PromptTemplate\n",
    "from langchain.llms import SagemakerEndpoint\n",
    "from langchain.llms.sagemaker_endpoint import LLMContentHandler\n",
    "from sagemaker.jumpstart.model import JumpStartModel"
   ]
  },
  {
   "cell_type": "markdown",
   "id": "5f8ff459",
   "metadata": {},
   "source": [
    "## Deploy LLM on SageMaker"
   ]
  },
  {
   "cell_type": "code",
   "execution_count": 3,
   "id": "3c025e29",
   "metadata": {},
   "outputs": [
    {
     "name": "stderr",
     "output_type": "stream",
     "text": [
      "Using model 'huggingface-llm-mistral-7b-instruct' with wildcard version identifier '*'. You can pin to version '3.1.0' for more stable results. Note that models may have different input/output signatures after a major version upgrade.\n"
     ]
    }
   ],
   "source": [
    "model_id = \"huggingface-llm-mistral-7b-instruct\"\n",
    "accept_eula = False\n",
    "\n",
    "model = JumpStartModel(model_id=model_id)"
   ]
  },
  {
   "cell_type": "code",
   "execution_count": 5,
   "id": "f6bbbb01",
   "metadata": {
    "scrolled": true
   },
   "outputs": [
    {
     "name": "stderr",
     "output_type": "stream",
     "text": [
      "Using already existing model: hf-llm-mistral-7b-instruct-2024-06-04-12-05-01-370\n"
     ]
    },
    {
     "name": "stdout",
     "output_type": "stream",
     "text": [
      "------------![{'generated_text': \"Why is the sky blue? Why does the moon change shape? What makes a rainbow? Join scientists and engineers at NASA and The Museum of Science and Industry Chicago for a series of free, live interactive webcasts, exploring some of the most fundamental questions in science.\\n\\nIn this live webcast series, we'll explore the scientific principles behind some of nature's most beautiful and intriguing phenomena. Each webcast will feature a guest speaker from NASA and Q&A sessions with students and the public\"}]\n"
     ]
    }
   ],
   "source": [
    "predictor = model.deploy(accept_eula=accept_eula)\n",
    "\n",
    "payload = {\n",
    "    \"inputs\": \"Why is the sky blue?\",\n",
    "}\n",
    "response = predictor.predict(payload)\n",
    "print(response)"
   ]
  },
  {
   "cell_type": "markdown",
   "id": "0a3547b7",
   "metadata": {},
   "source": [
    "## Configure LLM in LangChain"
   ]
  },
  {
   "cell_type": "code",
   "execution_count": 6,
   "id": "beb3bcff",
   "metadata": {},
   "outputs": [],
   "source": [
    "#endpoint_kwargs = {\"InferenceComponentName\": inference_component_name}\n",
    "model_kwargs = {\"max_new_tokens\": 512, \"top_p\": 0.2, \"temperature\": 0.2}"
   ]
  },
  {
   "cell_type": "code",
   "execution_count": 7,
   "id": "29135c41",
   "metadata": {},
   "outputs": [],
   "source": [
    "class ContentHandler(LLMContentHandler):\n",
    "    content_type = \"application/json\"\n",
    "    accepts = \"application/json\"\n",
    "\n",
    "    def transform_input(self, prompt: str, model_kwargs: Dict) -> bytes:\n",
    "        input_str = json.dumps(\n",
    "            # Mistral prompt, see https://huggingface.co/mistralai/Mistral-7B-Instruct-v0.1\n",
    "            {\"inputs\": f\"<s>[INST] {prompt} [/INST]\", \"parameters\": {**model_kwargs}}\n",
    "        )\n",
    "        return input_str.encode(\"utf-8\")\n",
    "\n",
    "    def transform_output(self, output: bytes) -> str:\n",
    "        response_json = json.loads(output.read().decode(\"utf-8\"))\n",
    "        splits = response_json[0][\"generated_text\"].split(\"[/INST] \")\n",
    "        return splits[1]\n",
    "\n",
    "\n",
    "content_handler = ContentHandler()"
   ]
  },
  {
   "cell_type": "code",
   "execution_count": 8,
   "id": "fae0bb69",
   "metadata": {},
   "outputs": [],
   "source": [
    "sm_client = boto3.client(\"sagemaker-runtime\") # needed for AWS credentials\n",
    "\n",
    "llm = SagemakerEndpoint(\n",
    "    #      endpoint_kwargs=endpoint_kwargs,\n",
    "    endpoint_name=predictor.endpoint_name,\n",
    "    model_kwargs=model_kwargs,\n",
    "    content_handler=content_handler,\n",
    "    client=sm_client,\n",
    ")"
   ]
  },
  {
   "cell_type": "markdown",
   "id": "267a7cb9",
   "metadata": {},
   "source": [
    "## Zero-shot example"
   ]
  },
  {
   "cell_type": "code",
   "execution_count": 9,
   "id": "21eec468",
   "metadata": {},
   "outputs": [],
   "source": [
    "system_prompt = \"\"\"\n",
    "As a helpful cybersecurity expert, please answer the question.\n",
    "Don't invent facts. If you can't provide a factual answer, say you don't know what the answer is.\n",
    "\"\"\"\n",
    "\n",
    "prompt = PromptTemplate.from_template(system_prompt + \"{content}\")"
   ]
  },
  {
   "cell_type": "code",
   "execution_count": 10,
   "id": "28e5f4ed",
   "metadata": {},
   "outputs": [
    {
     "name": "stderr",
     "output_type": "stream",
     "text": [
      "/opt/conda/lib/python3.10/site-packages/langchain_core/_api/deprecation.py:119: LangChainDeprecationWarning: The class `LLMChain` was deprecated in LangChain 0.1.17 and will be removed in 0.3.0. Use RunnableSequence, e.g., `prompt | llm` instead.\n",
      "  warn_deprecated(\n"
     ]
    }
   ],
   "source": [
    "llm_chain = LLMChain(llm=llm, prompt=prompt)"
   ]
  },
  {
   "cell_type": "code",
   "execution_count": 11,
   "id": "77e58740",
   "metadata": {},
   "outputs": [],
   "source": [
    "question = \"What is CA-9 control?\"\n",
    "\n",
    "query = f\"question: {question}\""
   ]
  },
  {
   "cell_type": "code",
   "execution_count": 12,
   "id": "4ba91871",
   "metadata": {
    "scrolled": true
   },
   "outputs": [
    {
     "name": "stderr",
     "output_type": "stream",
     "text": [
      "/opt/conda/lib/python3.10/site-packages/langchain_core/_api/deprecation.py:119: LangChainDeprecationWarning: The method `Chain.run` was deprecated in langchain 0.1.0 and will be removed in 0.3.0. Use invoke instead.\n",
      "  warn_deprecated(\n"
     ]
    },
    {
     "name": "stdout",
     "output_type": "stream",
     "text": [
      "I'm sorry for any confusion, but the term \"CA-9 control\" is not a widely recognized term in cybersecurity or any other field that I'm aware of. It's possible that it could refer to a specific control or security measure used in a particular organization or industry, but without more context, it's impossible for me to provide a factual answer. If you could please provide more information or context about what \"CA-9 control\" is supposed to be, I'd be happy to help if I can.\n"
     ]
    }
   ],
   "source": [
    "answer = llm_chain.run({query})\n",
    "print(answer)"
   ]
  },
  {
   "cell_type": "markdown",
   "id": "45079dc5",
   "metadata": {},
   "source": [
    "## RAG example with PDF files"
   ]
  },
  {
   "cell_type": "code",
   "execution_count": 13,
   "id": "19eb8f4e",
   "metadata": {},
   "outputs": [],
   "source": [
    "from langchain.document_loaders import AmazonTextractPDFLoader\n",
    "from langchain.text_splitter import RecursiveCharacterTextSplitter\n",
    "from langchain.embeddings import HuggingFaceEmbeddings\n",
    "from langchain.vectorstores import FAISS\n",
    "from langchain.chains import RetrievalQA"
   ]
  },
  {
   "cell_type": "markdown",
   "id": "9b64b5bc",
   "metadata": {},
   "source": [
    "### Upload local PDF files to S3\n",
    "\n",
    "Sources:\n",
    "* https://www.cyber.gc.ca/sites/default/files/itsg-33_-_overview.pdf\n",
    "* https://www.cyber.gc.ca/sites/default/files/cyber/publications/itsg33-ann1-eng.pdf\n",
    "* https://www.cyber.gc.ca/sites/default/files/cyber/publications/itsg33-ann2-eng.pdf\n",
    "* https://www.cyber.gc.ca/sites/default/files/cyber/publications/itsg33-ann3a-eng.pdf\n",
    "* https://www.cyber.gc.ca/sites/default/files/cyber/publications/itsg33-ann4a-1-eng.pdf\n"
   ]
  },
  {
   "cell_type": "code",
   "execution_count": 14,
   "id": "b93ba6da",
   "metadata": {},
   "outputs": [],
   "source": [
    "# Define S3 bucket and prefix for PDF storage\n",
    "\n",
    "bucket = sagemaker.Session().default_bucket()\n",
    "prefix = \"itsg-33-rag-demo\""
   ]
  },
  {
   "cell_type": "code",
   "execution_count": 14,
   "id": "17460881",
   "metadata": {},
   "outputs": [
    {
     "name": "stdout",
     "output_type": "stream",
     "text": [
      "upload: itsg-33/itsg-33_-_overview.pdf to s3://sagemaker-ca-central-1-654654213972/itsg-33-rag-demo/itsg-33_-_overview.pdf\n",
      "upload: itsg-33/itsg33-ann1-eng.pdf to s3://sagemaker-ca-central-1-654654213972/itsg-33-rag-demo/itsg33-ann1-eng.pdf\n",
      "upload: itsg-33/itsg33-ann3a-eng.pdf to s3://sagemaker-ca-central-1-654654213972/itsg-33-rag-demo/itsg33-ann3a-eng.pdf\n",
      "upload: itsg-33/itsg33-ann5-eng.pdf to s3://sagemaker-ca-central-1-654654213972/itsg-33-rag-demo/itsg33-ann5-eng.pdf\n",
      "upload: itsg-33/itsg33-ann4a-1-eng.pdf to s3://sagemaker-ca-central-1-654654213972/itsg-33-rag-demo/itsg33-ann4a-1-eng.pdf\n",
      "upload: itsg-33/itsg33-ann2-eng.pdf to s3://sagemaker-ca-central-1-654654213972/itsg-33-rag-demo/itsg33-ann2-eng.pdf\n"
     ]
    }
   ],
   "source": [
    "%%sh -s $bucket $prefix\n",
    "aws s3 cp --recursive itsg-33 s3://$1/$2/"
   ]
  },
  {
   "cell_type": "code",
   "execution_count": 15,
   "id": "65b5ed3b",
   "metadata": {},
   "outputs": [
    {
     "data": {
      "text/plain": [
       "['s3://sagemaker-ca-central-1-654654213972/itsg-33-rag-demo/itsg-33_-_overview.pdf',\n",
       " 's3://sagemaker-ca-central-1-654654213972/itsg-33-rag-demo/itsg33-ann1-eng.pdf',\n",
       " 's3://sagemaker-ca-central-1-654654213972/itsg-33-rag-demo/itsg33-ann2-eng.pdf',\n",
       " 's3://sagemaker-ca-central-1-654654213972/itsg-33-rag-demo/itsg33-ann3a-eng.pdf',\n",
       " 's3://sagemaker-ca-central-1-654654213972/itsg-33-rag-demo/itsg33-ann4a-1-eng.pdf',\n",
       " 's3://sagemaker-ca-central-1-654654213972/itsg-33-rag-demo/itsg33-ann5-eng.pdf']"
      ]
     },
     "execution_count": 15,
     "metadata": {},
     "output_type": "execute_result"
    }
   ],
   "source": [
    "# Build list of S3 URIs\n",
    "\n",
    "s3 = boto3.client(\"s3\")\n",
    "objs = s3.list_objects_v2(Bucket=bucket, Prefix=prefix)\n",
    "objs = objs['Contents']\n",
    "uris = [f's3://{bucket}/{obj[\"Key\"]}' for obj in objs]\n",
    "uris    "
   ]
  },
  {
   "cell_type": "markdown",
   "id": "07745175",
   "metadata": {},
   "source": [
    "### Analyze documents with Amazon Textract and split them in chunks"
   ]
  },
  {
   "cell_type": "code",
   "execution_count": 16,
   "id": "e801a97d",
   "metadata": {
    "scrolled": true
   },
   "outputs": [
    {
     "name": "stdout",
     "output_type": "stream",
     "text": [
      "Loaded s3://sagemaker-ca-central-1-654654213972/itsg-33-rag-demo/itsg-33_-_overview.pdf, 16 pages, 48 chunks\n",
      "Loaded s3://sagemaker-ca-central-1-654654213972/itsg-33-rag-demo/itsg33-ann1-eng.pdf, 56 pages, 177 chunks\n",
      "Loaded s3://sagemaker-ca-central-1-654654213972/itsg-33-rag-demo/itsg33-ann2-eng.pdf, 113 pages, 364 chunks\n",
      "Loaded s3://sagemaker-ca-central-1-654654213972/itsg-33-rag-demo/itsg33-ann3a-eng.pdf, 270 pages, 1224 chunks\n",
      "Loaded s3://sagemaker-ca-central-1-654654213972/itsg-33-rag-demo/itsg33-ann4a-1-eng.pdf, 114 pages, 288 chunks\n",
      "Loaded s3://sagemaker-ca-central-1-654654213972/itsg-33-rag-demo/itsg33-ann5-eng.pdf, 24 pages, 71 chunks\n",
      "CPU times: user 1min 3s, sys: 1.04 s, total: 1min 4s\n",
      "Wall time: 8min 30s\n"
     ]
    }
   ],
   "source": [
    "%%time\n",
    "\n",
    "textract_client = boto3.client('textract')\n",
    "splitter = RecursiveCharacterTextSplitter(chunk_size=1024, chunk_overlap=256)\n",
    "\n",
    "all_chunks = []\n",
    "\n",
    "for uri in uris:\n",
    "    loader = AmazonTextractPDFLoader(uri, client=textract_client)\n",
    "    document = loader.load()\n",
    "    chunks = splitter.split_documents(document)\n",
    "    all_chunks += chunks\n",
    "    print(f\"Loaded {uri}, {len(document)} pages, {len(chunks)} chunks\")"
   ]
  },
  {
   "cell_type": "markdown",
   "id": "1d1c74a8",
   "metadata": {},
   "source": [
    "### Embed document chunks and store them in FAISS\n",
    "https://github.com/facebookresearch/faiss "
   ]
  },
  {
   "cell_type": "code",
   "execution_count": 17,
   "id": "fa50471b",
   "metadata": {},
   "outputs": [
    {
     "name": "stderr",
     "output_type": "stream",
     "text": [
      "/opt/conda/lib/python3.10/site-packages/sentence_transformers/cross_encoder/CrossEncoder.py:11: TqdmExperimentalWarning: Using `tqdm.autonotebook.tqdm` in notebook mode. Use `tqdm.tqdm` instead to force console mode (e.g. in jupyter console)\n",
      "  from tqdm.autonotebook import tqdm, trange\n",
      "2024-06-04 12:28:31.856069: I tensorflow/core/platform/cpu_feature_guard.cc:182] This TensorFlow binary is optimized to use available CPU instructions in performance-critical operations.\n",
      "To enable the following instructions: SSE4.1 SSE4.2 AVX AVX2 AVX512F FMA, in other operations, rebuild TensorFlow with the appropriate compiler flags.\n",
      "/opt/conda/lib/python3.10/site-packages/huggingface_hub/file_download.py:1132: FutureWarning: `resume_download` is deprecated and will be removed in version 1.0.0. Downloads always resume when possible. If you want to force a new download, use `force_download=True`.\n",
      "  warnings.warn(\n"
     ]
    },
    {
     "name": "stdout",
     "output_type": "stream",
     "text": [
      "CPU times: user 5.31 s, sys: 409 ms, total: 5.72 s\n",
      "Wall time: 7.29 s\n"
     ]
    }
   ],
   "source": [
    "%%time\n",
    "# Define embedding model\n",
    "# See https://huggingface.co/spaces/mteb/leaderboard\n",
    "\n",
    "embedding_model_id = \"BAAI/bge-small-en-v1.5\"\n",
    "\n",
    "embeddings = HuggingFaceEmbeddings(\n",
    "    model_name=embedding_model_id,\n",
    ")"
   ]
  },
  {
   "cell_type": "code",
   "execution_count": 18,
   "id": "2c61d096",
   "metadata": {},
   "outputs": [
    {
     "name": "stdout",
     "output_type": "stream",
     "text": [
      "CPU times: user 6min 39s, sys: 2min 33s, total: 9min 12s\n",
      "Wall time: 5min 56s\n"
     ]
    }
   ],
   "source": [
    "%%time\n",
    "# Embed chunks\n",
    "embeddings_db = FAISS.from_documents(all_chunks, embeddings)"
   ]
  },
  {
   "cell_type": "code",
   "execution_count": 19,
   "id": "8f3cbb03",
   "metadata": {},
   "outputs": [
    {
     "name": "stdout",
     "output_type": "stream",
     "text": [
      "CPU times: user 19.3 ms, sys: 916 µs, total: 20.2 ms\n",
      "Wall time: 28 ms\n"
     ]
    }
   ],
   "source": [
    "%%time\n",
    "# Save database\n",
    "embeddings_db.save_local(\"faiss_index\")"
   ]
  },
  {
   "cell_type": "markdown",
   "id": "ffdb455a",
   "metadata": {},
   "source": [
    "### Shortcut : load existing embedding database"
   ]
  },
  {
   "cell_type": "code",
   "execution_count": 20,
   "id": "e86b0ae6",
   "metadata": {},
   "outputs": [
    {
     "name": "stdout",
     "output_type": "stream",
     "text": [
      "CPU times: user 13.9 ms, sys: 2.48 ms, total: 16.4 ms\n",
      "Wall time: 46.4 ms\n"
     ]
    }
   ],
   "source": [
    "%%time\n",
    "embeddings_db = FAISS.load_local(\"faiss_index\", embeddings,  allow_dangerous_deserialization=True)"
   ]
  },
  {
   "cell_type": "markdown",
   "id": "6fa22850",
   "metadata": {},
   "source": [
    "********"
   ]
  },
  {
   "cell_type": "markdown",
   "id": "a99d4d47",
   "metadata": {},
   "source": [
    "### Configure RAG chain"
   ]
  },
  {
   "cell_type": "code",
   "execution_count": 21,
   "id": "4148a333",
   "metadata": {},
   "outputs": [
    {
     "name": "stdout",
     "output_type": "stream",
     "text": [
      "CPU times: user 106 µs, sys: 0 ns, total: 106 µs\n",
      "Wall time: 110 µs\n"
     ]
    }
   ],
   "source": [
    "%%time\n",
    "retriever = embeddings_db.as_retriever(search_kwargs={\"k\": 10})"
   ]
  },
  {
   "cell_type": "code",
   "execution_count": 22,
   "id": "6c1db22a",
   "metadata": {},
   "outputs": [
    {
     "name": "stdout",
     "output_type": "stream",
     "text": [
      "CPU times: user 79 µs, sys: 26 µs, total: 105 µs\n",
      "Wall time: 110 µs\n"
     ]
    }
   ],
   "source": [
    "%%time\n",
    "# Define prompt template\n",
    "prompt_template = \"\"\"\n",
    "As a helpful Government of Canada cybersecurity specialist, please answer the question below, focusing on text data and using only the context below.\n",
    "Don't invent facts. If you can't provide a factual answer, say you don't know what the answer is.\n",
    "\n",
    "question: {question}\n",
    "\n",
    "context: {context}\n",
    "\"\"\"\n",
    "\n",
    "prompt = PromptTemplate(template=prompt_template, input_variables=[\"context\", \"question\"])"
   ]
  },
  {
   "cell_type": "code",
   "execution_count": 23,
   "id": "a92ef004",
   "metadata": {},
   "outputs": [
    {
     "name": "stdout",
     "output_type": "stream",
     "text": [
      "CPU times: user 190 ms, sys: 98.9 ms, total: 288 ms\n",
      "Wall time: 311 ms\n"
     ]
    }
   ],
   "source": [
    "%%time\n",
    "chain = RetrievalQA.from_chain_type(\n",
    "    llm=llm, \n",
    "    chain_type=\"stuff\",\n",
    "    retriever=retriever, \n",
    "    chain_type_kwargs = {\"prompt\": prompt})"
   ]
  },
  {
   "cell_type": "markdown",
   "id": "4e06143a",
   "metadata": {},
   "source": [
    "### Ask our question again"
   ]
  },
  {
   "cell_type": "code",
   "execution_count": 24,
   "id": "64223366",
   "metadata": {},
   "outputs": [
    {
     "name": "stdout",
     "output_type": "stream",
     "text": [
      "CA-9 control refers to the organization's authorization of internal connections of defined information system components or classes of components to an information system. The organization documents the interface characteristics, security requirements, and nature of the information communicated for each internal connection. (Refer to CA-9 in the provided context for more details.)\n",
      "CPU times: user 263 ms, sys: 11.8 ms, total: 275 ms\n",
      "Wall time: 2.94 s\n"
     ]
    }
   ],
   "source": [
    "%%time\n",
    "question = \"What is CA-9 control?\"\n",
    "answer = chain.run({\"query\": question})\n",
    "print(answer)"
   ]
  },
  {
   "cell_type": "code",
   "execution_count": 25,
   "id": "453d32af-4a79-42c2-9384-3d758414c560",
   "metadata": {},
   "outputs": [
    {
     "name": "stdout",
     "output_type": "stream",
     "text": [
      "AC-6 is a cybersecurity control referred to as \"Least Privilege.\" It is a principle that allows only authorized accesses for users or processes acting on behalf of users, which are necessary to accomplish assigned tasks in accordance with organizational missions and business functions. This control is related to other controls such as AC-3, CM-2, CM-3, CM-5, CM-6, CM-7, PL-4, and is considered a best practice. The control enhances security by reducing the risk of malevolent activity without collusion and helps to ensure that users only have the access they need and no more.\n",
      "CPU times: user 254 ms, sys: 19.5 ms, total: 274 ms\n",
      "Wall time: 5.07 s\n"
     ]
    }
   ],
   "source": [
    "%%time\n",
    "question = \"What is AC-6 control?\"\n",
    "answer = chain.run({\"query\": question})\n",
    "print(answer)"
   ]
  },
  {
   "cell_type": "code",
   "execution_count": 26,
   "id": "a0498e20-0ff2-4038-a3bb-528e4ba64c7d",
   "metadata": {},
   "outputs": [
    {
     "name": "stdout",
     "output_type": "stream",
     "text": [
      "The Supplemental Guidance for AC-6 control (Remote Access I Automated Monitoring/Control) provides additional information on how organizations can implement the control effectively. It states that automated monitoring and control of remote access sessions allows organizations to detect cyber-attacks and ensure ongoing compliance with remote access policies by auditing connection activities of remote users on various information system components. Related controls for this enhancement include AU-2 and AU-12.\n",
      "CPU times: user 213 ms, sys: 10.4 ms, total: 223 ms\n",
      "Wall time: 3.83 s\n"
     ]
    }
   ],
   "source": [
    "%%time\n",
    "question = \"What is the Supplemental Guidance for AC-6 control?\"\n",
    "answer = chain.run({\"query\": question})\n",
    "print(answer)"
   ]
  },
  {
   "cell_type": "code",
   "execution_count": 27,
   "id": "a98549c3-a93f-42d1-8a05-187d72f89766",
   "metadata": {},
   "outputs": [
    {
     "name": "stdout",
     "output_type": "stream",
     "text": [
      "The context provided does not mention any specific control enhancements for AC-6 Least Privilege. According to the text, the principle of least privilege is a best practice, and it is encouraged to include it in departmental profiles for most cases. However, there are some exceptions, such as for specialized or advanced capabilities that are not required for all systems, or for outside personnel who need privileged access for maintenance. In these cases, inclusion in a departmental profile is made on a case-by-case basis. The text also suggests that organizations give due consideration to the least privilege control enhancement, even if it is not included in a departmental profile. Therefore, there are no specific control enhancements mentioned for AC-6 Least Privilege in the context provided.\n",
      "CPU times: user 284 ms, sys: 15.8 ms, total: 300 ms\n",
      "Wall time: 6.03 s\n"
     ]
    }
   ],
   "source": [
    "%%time\n",
    "question = \"What are the Control Enhancements for AC-6 control Least Privilege?\"\n",
    "answer = chain.run({\"query\": question})\n",
    "print(answer)"
   ]
  },
  {
   "cell_type": "code",
   "execution_count": 28,
   "id": "b999331c-3ad6-49ac-bd39-516d218870b2",
   "metadata": {},
   "outputs": [
    {
     "name": "stdout",
     "output_type": "stream",
     "text": [
      "Based on the context provided, the term \"statement of assessment\" refers to a recognition or acknowledgement that the assessment process has been completed with acceptable results. It can be formal or informal, such as a signed certificate from a security assessor or a record of decision appearing in the minutes of a meeting.\n",
      "\n",
      "Therefore, the answer to the question \"Reflect on your last answer. Did you miss anything?\" is that I did not miss anything related to the definition of a statement of assessment in the context provided. However, I cannot answer any questions that go beyond the context given.\n",
      "CPU times: user 277 ms, sys: 12.3 ms, total: 289 ms\n",
      "Wall time: 4.94 s\n"
     ]
    }
   ],
   "source": [
    "%%time\n",
    "question = \"Reflect on your last answer. Did you miss anything?\"\n",
    "answer = chain.run({\"query\": question})\n",
    "print(answer)"
   ]
  },
  {
   "cell_type": "code",
   "execution_count": 29,
   "id": "0a04c7e3-7137-4941-98dc-4e2dfde12e5c",
   "metadata": {
    "scrolled": true
   },
   "outputs": [
    {
     "name": "stdout",
     "output_type": "stream",
     "text": [
      "The term \"AUTHORIZE ACCESS TO SECURITY FUNCTIONS\" refers to the process of explicitly authorizing access to organization-defined security functions and security-relevant information in an information system. This is typically done by the organization to ensure that only authorized individuals have access to these functions and information to maintain the security of the system. The context provided in the Control Enhancements section of ITSG-33 mentions this concept in the LEAST PRIVILEGE I AUTHORIZE ACCESS TO SECURITY FUNCTIONS enhancement. The authorization package, which includes statements of assessment, residual risk assessment results or TRA report, and the operations plan, is used to make the decision to authorize or deny access to these functions. (3.9.6 Authorize Information System Operations)\n",
      "CPU times: user 190 ms, sys: 4.55 ms, total: 195 ms\n",
      "Wall time: 6.34 s\n"
     ]
    }
   ],
   "source": [
    "%%time\n",
    "question = \"What is AUTHORIZE ACCESS TO SECURITY FUNCTIONS?\"\n",
    "answer = chain.run({\"query\": question})\n",
    "print(answer)"
   ]
  },
  {
   "cell_type": "markdown",
   "id": "7f2d4337",
   "metadata": {},
   "source": [
    "## Delete endpoint and model"
   ]
  },
  {
   "cell_type": "code",
   "execution_count": 31,
   "id": "066351f1",
   "metadata": {},
   "outputs": [],
   "source": [
    "predictor.delete_predictor()"
   ]
  },
  {
   "cell_type": "code",
   "execution_count": null,
   "id": "4f083366",
   "metadata": {},
   "outputs": [],
   "source": []
  }
 ],
 "metadata": {
  "kernelspec": {
   "display_name": "Python 3 (ipykernel)",
   "language": "python",
   "name": "python3"
  },
  "language_info": {
   "codemirror_mode": {
    "name": "ipython",
    "version": 3
   },
   "file_extension": ".py",
   "mimetype": "text/x-python",
   "name": "python",
   "nbconvert_exporter": "python",
   "pygments_lexer": "ipython3",
   "version": "3.11.7"
  }
 },
 "nbformat": 4,
 "nbformat_minor": 5
}

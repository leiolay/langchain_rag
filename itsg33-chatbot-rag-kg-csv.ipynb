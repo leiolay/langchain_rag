{
 "cells": [
  {
   "cell_type": "markdown",
   "id": "e561e1b6",
   "metadata": {},
   "source": [
    "# Building an ITSG-33 RAG chatbot with LangChain, Ollama, and Neo4j"
   ]
  },
  {
   "cell_type": "code",
   "execution_count": 50,
   "id": "a6e7b807",
   "metadata": {
    "scrolled": true
   },
   "outputs": [
    {
     "name": "stdout",
     "output_type": "stream",
     "text": [
      "Requirement already satisfied: langchain in /home/ec2-user2/anaconda3/lib/python3.11/site-packages (0.2.3)\n",
      "Requirement already satisfied: langchain-community in /home/ec2-user2/anaconda3/lib/python3.11/site-packages (0.2.4)\n",
      "Requirement already satisfied: langchain-experimental in /home/ec2-user2/anaconda3/lib/python3.11/site-packages (0.0.60)\n",
      "Requirement already satisfied: json-repair in /home/ec2-user2/anaconda3/lib/python3.11/site-packages (0.23.1)\n",
      "Requirement already satisfied: pypdf in /home/ec2-user2/anaconda3/lib/python3.11/site-packages (4.2.0)\n",
      "Requirement already satisfied: neo4j in /home/ec2-user2/anaconda3/lib/python3.11/site-packages (5.20.0)\n",
      "Requirement already satisfied: PyYAML>=5.3 in /home/ec2-user2/anaconda3/lib/python3.11/site-packages (from langchain) (6.0.1)\n",
      "Requirement already satisfied: SQLAlchemy<3,>=1.4 in /home/ec2-user2/anaconda3/lib/python3.11/site-packages (from langchain) (2.0.25)\n",
      "Requirement already satisfied: aiohttp<4.0.0,>=3.8.3 in /home/ec2-user2/anaconda3/lib/python3.11/site-packages (from langchain) (3.9.3)\n",
      "Requirement already satisfied: langchain-core<0.3.0,>=0.2.0 in /home/ec2-user2/anaconda3/lib/python3.11/site-packages (from langchain) (0.2.5)\n",
      "Requirement already satisfied: langchain-text-splitters<0.3.0,>=0.2.0 in /home/ec2-user2/anaconda3/lib/python3.11/site-packages (from langchain) (0.2.1)\n",
      "Requirement already satisfied: langsmith<0.2.0,>=0.1.17 in /home/ec2-user2/anaconda3/lib/python3.11/site-packages (from langchain) (0.1.75)\n",
      "Requirement already satisfied: numpy<2,>=1 in /home/ec2-user2/anaconda3/lib/python3.11/site-packages (from langchain) (1.26.4)\n",
      "Requirement already satisfied: pydantic<3,>=1 in /home/ec2-user2/anaconda3/lib/python3.11/site-packages (from langchain) (1.10.12)\n",
      "Requirement already satisfied: requests<3,>=2 in /home/ec2-user2/anaconda3/lib/python3.11/site-packages (from langchain) (2.31.0)\n",
      "Requirement already satisfied: tenacity<9.0.0,>=8.1.0 in /home/ec2-user2/anaconda3/lib/python3.11/site-packages (from langchain) (8.2.2)\n",
      "Requirement already satisfied: dataclasses-json<0.7,>=0.5.7 in /home/ec2-user2/anaconda3/lib/python3.11/site-packages (from langchain-community) (0.6.6)\n",
      "Requirement already satisfied: pytz in /home/ec2-user2/anaconda3/lib/python3.11/site-packages (from neo4j) (2023.3.post1)\n",
      "Requirement already satisfied: aiosignal>=1.1.2 in /home/ec2-user2/anaconda3/lib/python3.11/site-packages (from aiohttp<4.0.0,>=3.8.3->langchain) (1.2.0)\n",
      "Requirement already satisfied: attrs>=17.3.0 in /home/ec2-user2/anaconda3/lib/python3.11/site-packages (from aiohttp<4.0.0,>=3.8.3->langchain) (23.1.0)\n",
      "Requirement already satisfied: frozenlist>=1.1.1 in /home/ec2-user2/anaconda3/lib/python3.11/site-packages (from aiohttp<4.0.0,>=3.8.3->langchain) (1.4.0)\n",
      "Requirement already satisfied: multidict<7.0,>=4.5 in /home/ec2-user2/anaconda3/lib/python3.11/site-packages (from aiohttp<4.0.0,>=3.8.3->langchain) (6.0.4)\n",
      "Requirement already satisfied: yarl<2.0,>=1.0 in /home/ec2-user2/anaconda3/lib/python3.11/site-packages (from aiohttp<4.0.0,>=3.8.3->langchain) (1.9.3)\n",
      "Requirement already satisfied: marshmallow<4.0.0,>=3.18.0 in /home/ec2-user2/anaconda3/lib/python3.11/site-packages (from dataclasses-json<0.7,>=0.5.7->langchain-community) (3.21.3)\n",
      "Requirement already satisfied: typing-inspect<1,>=0.4.0 in /home/ec2-user2/anaconda3/lib/python3.11/site-packages (from dataclasses-json<0.7,>=0.5.7->langchain-community) (0.9.0)\n",
      "Requirement already satisfied: jsonpatch<2.0,>=1.33 in /home/ec2-user2/anaconda3/lib/python3.11/site-packages (from langchain-core<0.3.0,>=0.2.0->langchain) (1.33)\n",
      "Requirement already satisfied: packaging<24.0,>=23.2 in /home/ec2-user2/anaconda3/lib/python3.11/site-packages (from langchain-core<0.3.0,>=0.2.0->langchain) (23.2)\n",
      "Requirement already satisfied: orjson<4.0.0,>=3.9.14 in /home/ec2-user2/anaconda3/lib/python3.11/site-packages (from langsmith<0.2.0,>=0.1.17->langchain) (3.10.3)\n",
      "Requirement already satisfied: typing-extensions>=4.2.0 in /home/ec2-user2/anaconda3/lib/python3.11/site-packages (from pydantic<3,>=1->langchain) (4.9.0)\n",
      "Requirement already satisfied: charset-normalizer<4,>=2 in /home/ec2-user2/anaconda3/lib/python3.11/site-packages (from requests<3,>=2->langchain) (2.0.4)\n",
      "Requirement already satisfied: idna<4,>=2.5 in /home/ec2-user2/anaconda3/lib/python3.11/site-packages (from requests<3,>=2->langchain) (3.4)\n",
      "Requirement already satisfied: urllib3<3,>=1.21.1 in /home/ec2-user2/anaconda3/lib/python3.11/site-packages (from requests<3,>=2->langchain) (2.0.7)\n",
      "Requirement already satisfied: certifi>=2017.4.17 in /home/ec2-user2/anaconda3/lib/python3.11/site-packages (from requests<3,>=2->langchain) (2024.2.2)\n",
      "Requirement already satisfied: greenlet!=0.4.17 in /home/ec2-user2/anaconda3/lib/python3.11/site-packages (from SQLAlchemy<3,>=1.4->langchain) (3.0.1)\n",
      "Requirement already satisfied: jsonpointer>=1.9 in /home/ec2-user2/anaconda3/lib/python3.11/site-packages (from jsonpatch<2.0,>=1.33->langchain-core<0.3.0,>=0.2.0->langchain) (2.1)\n",
      "Requirement already satisfied: mypy-extensions>=0.3.0 in /home/ec2-user2/anaconda3/lib/python3.11/site-packages (from typing-inspect<1,>=0.4.0->dataclasses-json<0.7,>=0.5.7->langchain-community) (1.0.0)\n"
     ]
    }
   ],
   "source": [
    "%%sh\n",
    "pip install langchain langchain-community langchain-experimental json-repair pypdf neo4j"
   ]
  },
  {
   "cell_type": "code",
   "execution_count": 1,
   "id": "91613d24",
   "metadata": {},
   "outputs": [],
   "source": [
    "import boto3, json\n",
    "from langchain_community.graphs import Neo4jGraph\n",
    "from langchain_experimental.graph_transformers import LLMGraphTransformer\n",
    "from langchain.docstore.document import Document\n"
   ]
  },
  {
   "cell_type": "markdown",
   "id": "5f8ff459",
   "metadata": {},
   "source": [
    "## Connect to Ollama "
   ]
  },
  {
   "cell_type": "code",
   "execution_count": 2,
   "id": "3c025e29",
   "metadata": {
    "scrolled": true
   },
   "outputs": [
    {
     "data": {
      "text/plain": [
       "\"Here's one:\\n\\nWhy don't scientists trust atoms?\\n\\nBecause they make up everything!\\n\\nHope that made you smile! Do you want to hear another one?\""
      ]
     },
     "execution_count": 2,
     "metadata": {},
     "output_type": "execute_result"
    }
   ],
   "source": [
    "from langchain_community.llms import Ollama\n",
    "\n",
    "llm = Ollama(\n",
    "    model=\"llama3:latest\",\n",
    "    base_url='http://ollama-server-2:11434',\n",
    "    temperature=0,\n",
    "    top_p=0,\n",
    "    top_k=40\n",
    ")  \n",
    "\n",
    "llm.invoke(\"Tell me a joke\")"
   ]
  },
  {
   "cell_type": "code",
   "execution_count": 3,
   "id": "f6bbbb01",
   "metadata": {
    "scrolled": true
   },
   "outputs": [],
   "source": [
    "llm_graph_transformer = LLMGraphTransformer(llm=llm)"
   ]
  },
  {
   "cell_type": "markdown",
   "id": "45079dc5",
   "metadata": {},
   "source": [
    "## Security Control Catalogue\n",
    "#### Nodes: Control, Control Enhancement, Family, Class, Document, Profile, SuggestedPriority, FunctionalGroup\n",
    "#### Relationships: PART_OF, BLONGS_TO, REFERENCES, IS_SUGGESTED_FOR, ENHANCES"
   ]
  },
  {
   "cell_type": "code",
   "execution_count": 17,
   "id": "4f083366",
   "metadata": {},
   "outputs": [
    {
     "name": "stdout",
     "output_type": "stream",
     "text": [
      "CPU times: user 7.5 ms, sys: 0 ns, total: 7.5 ms\n",
      "Wall time: 2.9 s\n"
     ]
    }
   ],
   "source": [
    "%%time\n",
    "NEO4J_URI = 'bolt://localhost:7687'\n",
    "NEO4J_USERNAME = 'neo4j'\n",
    "NEO4J_PASSWORD = 'neo4jgenai'\n",
    "NEO4J_DATABASE = 'neo4j'\n",
    "\n",
    "kg = Neo4jGraph(\n",
    "    url=NEO4J_URI, username=NEO4J_USERNAME, password=NEO4J_PASSWORD, database=NEO4J_DATABASE\n",
    ")"
   ]
  },
  {
   "cell_type": "code",
   "execution_count": 24,
   "id": "d635e5d8-3436-42c6-84ad-2505ccf4c929",
   "metadata": {},
   "outputs": [
    {
     "name": "stdout",
     "output_type": "stream",
     "text": [
      "CPU times: user 2.3 ms, sys: 254 µs, total: 2.56 ms\n",
      "Wall time: 1.09 s\n"
     ]
    },
    {
     "data": {
      "text/plain": [
       "[]"
      ]
     },
     "execution_count": 24,
     "metadata": {},
     "output_type": "execute_result"
    }
   ],
   "source": [
    "%%time\n",
    "catalogue_query =  \"\"\"\n",
    "LOAD CSV WITH HEADERS FROM 'file:///itsg33-ann4a-eng.csv'\n",
    "AS row\n",
    "\n",
    "FOREACH (i in CASE WHEN row.enhancement IS NULL OR trim(row.enhancement) = '' THEN [1] ELSE [] END |\n",
    "        MERGE (ctrl:Control {id:row.family + row.controlId})\n",
    "        SET ctrl.name = trim(row.name),\n",
    "            ctrl.definition = trim(row.definition),\n",
    "            ctrl.supplementalGuidance = trim(row.supplementalGuidance),\n",
    "            ctrl.genTailorAndImplGuidanceNotes = trim(row.generalTailoringAndImplementationGuidanceNotes),\n",
    "            ctrl.suggestedPBMMPlaceholderValues = trim(row.suggestedPBMMPlaceholderValues),\n",
    "            ctrl.PBMMProfileSpecificNotes = trim(row.PBMMProfileSpecificNotes),\n",
    "            ctrl.suggestedSecretMMPlaceholderValues = trim(row.suggestedSecretMMPlaceholderValues),\n",
    "            ctrl.SecretMMProfileSpecificNotes = trim(row.SecretMMProfileSpecificNotes)\n",
    "        MERGE (f:Family {name:row.family})\n",
    "        MERGE (ctrl)-[:PART_OF]->(f)\n",
    "        FOREACH (i in CASE WHEN COALESCE(trim(row.class), '') <> '' THEN [1] ELSE [] END |\n",
    "            MERGE (c:Class {name:row.class})\n",
    "            MERGE (f)-[:BELONGS_TO]->(c) \n",
    "        )        \n",
    "        FOREACH (i in CASE WHEN COALESCE(trim(row.references), '') <> '' THEN [1] ELSE [] END |\n",
    "            MERGE (d:Document {name: row.references})\n",
    "            MERGE (ctrl)-[:REFERENCES]->(d)\n",
    "        )\n",
    "        FOREACH (i in CASE WHEN trim(row.suggestedForPBMMProfile) = 'X' THEN [1] ELSE [] END |\n",
    "                MERGE (pp:Profile {name:'PBMM'})\n",
    "                MERGE (c)-[:SUGGESTED_FOR]->(pp)\n",
    "        )\n",
    "        FOREACH (i in CASE WHEN trim(row.suggestedForSecretMMProfile) = 'X' THEN [1] ELSE [] END |\n",
    "                MERGE (sp:Profile {name:'SecretMM'})\n",
    "                MERGE (c)-[:SUGGESTED_FOR]->(sp)\n",
    "        )\n",
    "        FOREACH (i in CASE WHEN trim(row.itSecurityFunction)  <> '' THEN [1] ELSE [] END |\n",
    "                MERGE (itsf:ITSecurity {name:'IT Security Function'})\n",
    "                FOREACH (i in CASE WHEN trim(row.itSecurityFunction) = 'R' THEN [1] ELSE [] END |\n",
    "                    MERGE (itsf)-[:RESPONSIBLE_FOR]->(ctrl)\n",
    "                )\n",
    "                FOREACH (i in CASE WHEN trim(row.itSecurityFunction) = 'S' THEN [1] ELSE [] END |\n",
    "                    MERGE (itsf)-[:SUPPORTS]->(ctrl)\n",
    "                )\n",
    "        )\n",
    "        FOREACH (i in CASE WHEN trim(row.itOperationsGroup)  <> '' THEN [1] ELSE [] END |\n",
    "                MERGE (itog:ITOperations {name:'IT Operations Group'})\n",
    "                FOREACH (i in CASE WHEN trim(row.itOperationsGroup) = 'R' THEN [1] ELSE [] END |\n",
    "                    MERGE (itog)-[:RESPONSIBLE_FOR]->(ctrl)\n",
    "                )\n",
    "                FOREACH (i in CASE WHEN trim(row.itOperationsGroup) = 'S' THEN [1] ELSE [] END |\n",
    "                    MERGE (itog)-[:SUPPORTS]->(ctrl)\n",
    "                )\n",
    "        )\n",
    "        FOREACH (i in CASE WHEN trim(row.itProjects)  <> '' THEN [1] ELSE [] END |\n",
    "                MERGE (itp:ITProjects {name:'IT Projects'})\n",
    "                FOREACH (i in CASE WHEN trim(row.itProjects) = 'R' THEN [1] ELSE [] END |\n",
    "                    MERGE (itp)-[:RESPONSIBLE_FOR]->(ctrl)\n",
    "                )\n",
    "                FOREACH (i in CASE WHEN trim(row.itProjects) = 'S' THEN [1] ELSE [] END |\n",
    "                    MERGE (itp)-[:SUPPORTS]->(ctrl)\n",
    "                )\n",
    "        )\n",
    "        FOREACH (i in CASE WHEN trim(row.physicalSecurityGroup)  <> '' THEN [1] ELSE [] END |\n",
    "                MERGE (phs:PhysicalSecurity {name:'Physical Security Group'})\n",
    "                FOREACH (i in CASE WHEN trim(row.physicalSecurityGroup) = 'R' THEN [1] ELSE [] END |\n",
    "                    MERGE (phs)-[:RESPONSIBLE_FOR]->(ctrl)\n",
    "                )\n",
    "                FOREACH (i in CASE WHEN trim(row.physicalSecurityGroup) = 'S' THEN [1] ELSE [] END |\n",
    "                    MERGE (phs)-[:SUPPORTS]->(ctrl)\n",
    "                )\n",
    "        )\n",
    "        FOREACH (i in CASE WHEN trim(row.personnelSecurityGroup)  <> '' THEN [1] ELSE [] END |\n",
    "                MERGE (ps:PersonnelSecurity {name:'Personnel Security Group'})\n",
    "                FOREACH (i in CASE WHEN trim(row.personnelSecurityGroup) = 'R' THEN [1] ELSE [] END |\n",
    "                    MERGE (ps)-[:RESPONSIBLE_FOR]->(ctrl)\n",
    "                )\n",
    "                FOREACH (i in CASE WHEN trim(row.personnelSecurityGroup) = 'S' THEN [1] ELSE [] END |\n",
    "                    MERGE (ps)-[:SUPPORTS]->(ctrl)\n",
    "                )\n",
    "        )\n",
    "        FOREACH (i in CASE WHEN trim(row.learningCenter)  <> '' THEN [1] ELSE [] END |\n",
    "                MERGE (lc:LearningCenter {name:'Learning Center'})\n",
    "                FOREACH (i in CASE WHEN trim(row.personnelSecurityGroup) = 'R' THEN [1] ELSE [] END |\n",
    "                    MERGE (lc)-[:RESPONSIBLE_FOR]->(ctrl)\n",
    "                )\n",
    "                FOREACH (i in CASE WHEN trim(row.personnelSecurityGroup) = 'S' THEN [1] ELSE [] END |\n",
    "                    MERGE (lc)-[:SUPPORTS]->(ctrl)\n",
    "                )                    \n",
    "        )\n",
    "        FOREACH (i in CASE \n",
    "                        WHEN trim(row.suggestedPriority)  <> '' \n",
    "                            AND trim(row.suggestedPriority)  <> 'None defined' \n",
    "                        THEN [1] ELSE [] END |\n",
    "                MERGE (priority:Priority {name:trim(row.suggestedPriority)})\n",
    "                MERGE (ctrl)-[:HAS_SUGGESTED_PRIORITY]->(priority)\n",
    "        )\n",
    ")\n",
    "\"\"\"\n",
    "\n",
    "kg.query(catalogue_query)\n"
   ]
  },
  {
   "cell_type": "code",
   "execution_count": null,
   "id": "d4f460e2-3c0f-452c-9518-9241fc1788a5",
   "metadata": {},
   "outputs": [],
   "source": []
  }
 ],
 "metadata": {
  "kernelspec": {
   "display_name": "Python 3 (ipykernel)",
   "language": "python",
   "name": "python3"
  },
  "language_info": {
   "codemirror_mode": {
    "name": "ipython",
    "version": 3
   },
   "file_extension": ".py",
   "mimetype": "text/x-python",
   "name": "python",
   "nbconvert_exporter": "python",
   "pygments_lexer": "ipython3",
   "version": "3.11.7"
  }
 },
 "nbformat": 4,
 "nbformat_minor": 5
}

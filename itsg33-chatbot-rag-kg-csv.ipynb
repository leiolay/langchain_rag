{
 "cells": [
  {
   "cell_type": "markdown",
   "id": "e561e1b6",
   "metadata": {},
   "source": [
    "# Building an ITSG-33 RAG chatbot with LangChain, Ollama, and Neo4j"
   ]
  },
  {
   "cell_type": "code",
   "execution_count": 50,
   "id": "a6e7b807",
   "metadata": {
    "scrolled": true
   },
   "outputs": [
    {
     "name": "stdout",
     "output_type": "stream",
     "text": [
      "Requirement already satisfied: langchain in /home/ec2-user2/anaconda3/lib/python3.11/site-packages (0.2.3)\n",
      "Requirement already satisfied: langchain-community in /home/ec2-user2/anaconda3/lib/python3.11/site-packages (0.2.4)\n",
      "Requirement already satisfied: langchain-experimental in /home/ec2-user2/anaconda3/lib/python3.11/site-packages (0.0.60)\n",
      "Requirement already satisfied: json-repair in /home/ec2-user2/anaconda3/lib/python3.11/site-packages (0.23.1)\n",
      "Requirement already satisfied: pypdf in /home/ec2-user2/anaconda3/lib/python3.11/site-packages (4.2.0)\n",
      "Requirement already satisfied: neo4j in /home/ec2-user2/anaconda3/lib/python3.11/site-packages (5.20.0)\n",
      "Requirement already satisfied: PyYAML>=5.3 in /home/ec2-user2/anaconda3/lib/python3.11/site-packages (from langchain) (6.0.1)\n",
      "Requirement already satisfied: SQLAlchemy<3,>=1.4 in /home/ec2-user2/anaconda3/lib/python3.11/site-packages (from langchain) (2.0.25)\n",
      "Requirement already satisfied: aiohttp<4.0.0,>=3.8.3 in /home/ec2-user2/anaconda3/lib/python3.11/site-packages (from langchain) (3.9.3)\n",
      "Requirement already satisfied: langchain-core<0.3.0,>=0.2.0 in /home/ec2-user2/anaconda3/lib/python3.11/site-packages (from langchain) (0.2.5)\n",
      "Requirement already satisfied: langchain-text-splitters<0.3.0,>=0.2.0 in /home/ec2-user2/anaconda3/lib/python3.11/site-packages (from langchain) (0.2.1)\n",
      "Requirement already satisfied: langsmith<0.2.0,>=0.1.17 in /home/ec2-user2/anaconda3/lib/python3.11/site-packages (from langchain) (0.1.75)\n",
      "Requirement already satisfied: numpy<2,>=1 in /home/ec2-user2/anaconda3/lib/python3.11/site-packages (from langchain) (1.26.4)\n",
      "Requirement already satisfied: pydantic<3,>=1 in /home/ec2-user2/anaconda3/lib/python3.11/site-packages (from langchain) (1.10.12)\n",
      "Requirement already satisfied: requests<3,>=2 in /home/ec2-user2/anaconda3/lib/python3.11/site-packages (from langchain) (2.31.0)\n",
      "Requirement already satisfied: tenacity<9.0.0,>=8.1.0 in /home/ec2-user2/anaconda3/lib/python3.11/site-packages (from langchain) (8.2.2)\n",
      "Requirement already satisfied: dataclasses-json<0.7,>=0.5.7 in /home/ec2-user2/anaconda3/lib/python3.11/site-packages (from langchain-community) (0.6.6)\n",
      "Requirement already satisfied: pytz in /home/ec2-user2/anaconda3/lib/python3.11/site-packages (from neo4j) (2023.3.post1)\n",
      "Requirement already satisfied: aiosignal>=1.1.2 in /home/ec2-user2/anaconda3/lib/python3.11/site-packages (from aiohttp<4.0.0,>=3.8.3->langchain) (1.2.0)\n",
      "Requirement already satisfied: attrs>=17.3.0 in /home/ec2-user2/anaconda3/lib/python3.11/site-packages (from aiohttp<4.0.0,>=3.8.3->langchain) (23.1.0)\n",
      "Requirement already satisfied: frozenlist>=1.1.1 in /home/ec2-user2/anaconda3/lib/python3.11/site-packages (from aiohttp<4.0.0,>=3.8.3->langchain) (1.4.0)\n",
      "Requirement already satisfied: multidict<7.0,>=4.5 in /home/ec2-user2/anaconda3/lib/python3.11/site-packages (from aiohttp<4.0.0,>=3.8.3->langchain) (6.0.4)\n",
      "Requirement already satisfied: yarl<2.0,>=1.0 in /home/ec2-user2/anaconda3/lib/python3.11/site-packages (from aiohttp<4.0.0,>=3.8.3->langchain) (1.9.3)\n",
      "Requirement already satisfied: marshmallow<4.0.0,>=3.18.0 in /home/ec2-user2/anaconda3/lib/python3.11/site-packages (from dataclasses-json<0.7,>=0.5.7->langchain-community) (3.21.3)\n",
      "Requirement already satisfied: typing-inspect<1,>=0.4.0 in /home/ec2-user2/anaconda3/lib/python3.11/site-packages (from dataclasses-json<0.7,>=0.5.7->langchain-community) (0.9.0)\n",
      "Requirement already satisfied: jsonpatch<2.0,>=1.33 in /home/ec2-user2/anaconda3/lib/python3.11/site-packages (from langchain-core<0.3.0,>=0.2.0->langchain) (1.33)\n",
      "Requirement already satisfied: packaging<24.0,>=23.2 in /home/ec2-user2/anaconda3/lib/python3.11/site-packages (from langchain-core<0.3.0,>=0.2.0->langchain) (23.2)\n",
      "Requirement already satisfied: orjson<4.0.0,>=3.9.14 in /home/ec2-user2/anaconda3/lib/python3.11/site-packages (from langsmith<0.2.0,>=0.1.17->langchain) (3.10.3)\n",
      "Requirement already satisfied: typing-extensions>=4.2.0 in /home/ec2-user2/anaconda3/lib/python3.11/site-packages (from pydantic<3,>=1->langchain) (4.9.0)\n",
      "Requirement already satisfied: charset-normalizer<4,>=2 in /home/ec2-user2/anaconda3/lib/python3.11/site-packages (from requests<3,>=2->langchain) (2.0.4)\n",
      "Requirement already satisfied: idna<4,>=2.5 in /home/ec2-user2/anaconda3/lib/python3.11/site-packages (from requests<3,>=2->langchain) (3.4)\n",
      "Requirement already satisfied: urllib3<3,>=1.21.1 in /home/ec2-user2/anaconda3/lib/python3.11/site-packages (from requests<3,>=2->langchain) (2.0.7)\n",
      "Requirement already satisfied: certifi>=2017.4.17 in /home/ec2-user2/anaconda3/lib/python3.11/site-packages (from requests<3,>=2->langchain) (2024.2.2)\n",
      "Requirement already satisfied: greenlet!=0.4.17 in /home/ec2-user2/anaconda3/lib/python3.11/site-packages (from SQLAlchemy<3,>=1.4->langchain) (3.0.1)\n",
      "Requirement already satisfied: jsonpointer>=1.9 in /home/ec2-user2/anaconda3/lib/python3.11/site-packages (from jsonpatch<2.0,>=1.33->langchain-core<0.3.0,>=0.2.0->langchain) (2.1)\n",
      "Requirement already satisfied: mypy-extensions>=0.3.0 in /home/ec2-user2/anaconda3/lib/python3.11/site-packages (from typing-inspect<1,>=0.4.0->dataclasses-json<0.7,>=0.5.7->langchain-community) (1.0.0)\n"
     ]
    }
   ],
   "source": [
    "%%sh\n",
    "pip install langchain langchain-community langchain-experimental json-repair pypdf neo4j"
   ]
  },
  {
   "cell_type": "code",
   "execution_count": 1,
   "id": "91613d24",
   "metadata": {},
   "outputs": [],
   "source": [
    "import boto3, json\n",
    "from langchain_community.graphs import Neo4jGraph\n",
    "from langchain_experimental.graph_transformers import LLMGraphTransformer\n",
    "from langchain.docstore.document import Document\n"
   ]
  },
  {
   "cell_type": "markdown",
   "id": "5f8ff459",
   "metadata": {},
   "source": [
    "## Connect to Ollama "
   ]
  },
  {
   "cell_type": "code",
   "execution_count": 54,
   "id": "3c025e29",
   "metadata": {
    "scrolled": true
   },
   "outputs": [
    {
     "data": {
      "text/plain": [
       "'Why don\\'t scientists trust atoms? Because they make up everything!\\n\\n\\nThis light-hearted joke plays on the double meaning of \"make up\" – both to compose or constitute, and also to fabricate or lie. It\\'s important to remember that humor can vary widely in its appropriateness depending on context and audience.'"
      ]
     },
     "execution_count": 54,
     "metadata": {},
     "output_type": "execute_result"
    }
   ],
   "source": [
    "from langchain_community.llms import Ollama\n",
    "\n",
    "llm = Ollama(\n",
    "    model=\"phi3:latest\",\n",
    "    base_url='http://ollama-server-2:11434',\n",
    "    temperature=0,\n",
    "    top_p=0,\n",
    "    top_k=40\n",
    ")  \n",
    "\n",
    "llm.invoke(\"Tell me a joke\")"
   ]
  },
  {
   "cell_type": "code",
   "execution_count": 55,
   "id": "f6bbbb01",
   "metadata": {
    "scrolled": true
   },
   "outputs": [],
   "source": [
    "llm_graph_transformer = LLMGraphTransformer(llm=llm)"
   ]
  },
  {
   "cell_type": "markdown",
   "id": "45079dc5",
   "metadata": {},
   "source": [
    "## Add the controls from Security Control Catalog into the knowlege graph\n",
    "#### Nodes: Control, Control Enhancement, Family, Class, Document, Profile, SuggestedPriority, FunctionalGroup\n",
    "#### Relationships: PART_OF, BLONGS_TO, REFERENCES, IS_SUGGESTED_FOR, ENHANCES"
   ]
  },
  {
   "cell_type": "code",
   "execution_count": 17,
   "id": "4f083366",
   "metadata": {},
   "outputs": [
    {
     "name": "stdout",
     "output_type": "stream",
     "text": [
      "CPU times: user 7.5 ms, sys: 0 ns, total: 7.5 ms\n",
      "Wall time: 2.9 s\n"
     ]
    }
   ],
   "source": [
    "%%time\n",
    "NEO4J_URI = 'bolt://localhost:7687'\n",
    "NEO4J_USERNAME = 'neo4j'\n",
    "NEO4J_PASSWORD = 'neo4jgenai'\n",
    "NEO4J_DATABASE = 'neo4j'\n",
    "\n",
    "kg = Neo4jGraph(\n",
    "    url=NEO4J_URI, username=NEO4J_USERNAME, password=NEO4J_PASSWORD, database=NEO4J_DATABASE\n",
    ")"
   ]
  },
  {
   "cell_type": "code",
   "execution_count": 24,
   "id": "d635e5d8-3436-42c6-84ad-2505ccf4c929",
   "metadata": {},
   "outputs": [
    {
     "name": "stdout",
     "output_type": "stream",
     "text": [
      "CPU times: user 2.3 ms, sys: 254 µs, total: 2.56 ms\n",
      "Wall time: 1.09 s\n"
     ]
    },
    {
     "data": {
      "text/plain": [
       "[]"
      ]
     },
     "execution_count": 24,
     "metadata": {},
     "output_type": "execute_result"
    }
   ],
   "source": [
    "%%time\n",
    "catalogue_query =  \"\"\"\n",
    "LOAD CSV WITH HEADERS FROM 'file:///itsg33-ann4a-eng.csv'\n",
    "AS row\n",
    "\n",
    "FOREACH (i in CASE WHEN row.enhancement IS NULL OR trim(row.enhancement) = '' THEN [1] ELSE [] END |\n",
    "        MERGE (ctrl:Control {id:row.family + row.controlId})\n",
    "        SET ctrl.name = trim(row.name),\n",
    "            ctrl.definition = trim(row.definition),\n",
    "            ctrl.supplementalGuidance = trim(row.supplementalGuidance),\n",
    "            ctrl.genTailorAndImplGuidanceNotes = trim(row.generalTailoringAndImplementationGuidanceNotes),\n",
    "            ctrl.suggestedPBMMPlaceholderValues = trim(row.suggestedPBMMPlaceholderValues),\n",
    "            ctrl.PBMMProfileSpecificNotes = trim(row.PBMMProfileSpecificNotes),\n",
    "            ctrl.suggestedSecretMMPlaceholderValues = trim(row.suggestedSecretMMPlaceholderValues),\n",
    "            ctrl.SecretMMProfileSpecificNotes = trim(row.SecretMMProfileSpecificNotes)\n",
    "        MERGE (f:Family {name:row.family})\n",
    "        MERGE (ctrl)-[:PART_OF]->(f)\n",
    "        FOREACH (i in CASE WHEN COALESCE(trim(row.class), '') <> '' THEN [1] ELSE [] END |\n",
    "            MERGE (c:Class {name:row.class})\n",
    "            MERGE (f)-[:BELONGS_TO]->(c) \n",
    "        )        \n",
    "        FOREACH (i in CASE WHEN COALESCE(trim(row.references), '') <> '' THEN [1] ELSE [] END |\n",
    "            MERGE (d:Document {name: row.references})\n",
    "            MERGE (ctrl)-[:REFERENCES]->(d)\n",
    "        )\n",
    "        FOREACH (i in CASE WHEN trim(row.suggestedForPBMMProfile) = 'X' THEN [1] ELSE [] END |\n",
    "                MERGE (pp:Profile {name:'PBMM'})\n",
    "                MERGE (c)-[:SUGGESTED_FOR]->(pp)\n",
    "        )\n",
    "        FOREACH (i in CASE WHEN trim(row.suggestedForSecretMMProfile) = 'X' THEN [1] ELSE [] END |\n",
    "                MERGE (sp:Profile {name:'SecretMM'})\n",
    "                MERGE (c)-[:SUGGESTED_FOR]->(sp)\n",
    "        )\n",
    "        FOREACH (i in CASE WHEN trim(row.itSecurityFunction)  <> '' THEN [1] ELSE [] END |\n",
    "                MERGE (itsf:ITSecurity {name:'IT Security Function'})\n",
    "                FOREACH (i in CASE WHEN trim(row.itSecurityFunction) = 'R' THEN [1] ELSE [] END |\n",
    "                    MERGE (itsf)-[:RESPONSIBLE_FOR]->(ctrl)\n",
    "                )\n",
    "                FOREACH (i in CASE WHEN trim(row.itSecurityFunction) = 'S' THEN [1] ELSE [] END |\n",
    "                    MERGE (itsf)-[:SUPPORTS]->(ctrl)\n",
    "                )\n",
    "        )\n",
    "        FOREACH (i in CASE WHEN trim(row.itOperationsGroup)  <> '' THEN [1] ELSE [] END |\n",
    "                MERGE (itog:ITOperations {name:'IT Operations Group'})\n",
    "                FOREACH (i in CASE WHEN trim(row.itOperationsGroup) = 'R' THEN [1] ELSE [] END |\n",
    "                    MERGE (itog)-[:RESPONSIBLE_FOR]->(ctrl)\n",
    "                )\n",
    "                FOREACH (i in CASE WHEN trim(row.itOperationsGroup) = 'S' THEN [1] ELSE [] END |\n",
    "                    MERGE (itog)-[:SUPPORTS]->(ctrl)\n",
    "                )\n",
    "        )\n",
    "        FOREACH (i in CASE WHEN trim(row.itProjects)  <> '' THEN [1] ELSE [] END |\n",
    "                MERGE (itp:ITProjects {name:'IT Projects'})\n",
    "                FOREACH (i in CASE WHEN trim(row.itProjects) = 'R' THEN [1] ELSE [] END |\n",
    "                    MERGE (itp)-[:RESPONSIBLE_FOR]->(ctrl)\n",
    "                )\n",
    "                FOREACH (i in CASE WHEN trim(row.itProjects) = 'S' THEN [1] ELSE [] END |\n",
    "                    MERGE (itp)-[:SUPPORTS]->(ctrl)\n",
    "                )\n",
    "        )\n",
    "        FOREACH (i in CASE WHEN trim(row.physicalSecurityGroup)  <> '' THEN [1] ELSE [] END |\n",
    "                MERGE (phs:PhysicalSecurity {name:'Physical Security Group'})\n",
    "                FOREACH (i in CASE WHEN trim(row.physicalSecurityGroup) = 'R' THEN [1] ELSE [] END |\n",
    "                    MERGE (phs)-[:RESPONSIBLE_FOR]->(ctrl)\n",
    "                )\n",
    "                FOREACH (i in CASE WHEN trim(row.physicalSecurityGroup) = 'S' THEN [1] ELSE [] END |\n",
    "                    MERGE (phs)-[:SUPPORTS]->(ctrl)\n",
    "                )\n",
    "        )\n",
    "        FOREACH (i in CASE WHEN trim(row.personnelSecurityGroup)  <> '' THEN [1] ELSE [] END |\n",
    "                MERGE (ps:PersonnelSecurity {name:'Personnel Security Group'})\n",
    "                FOREACH (i in CASE WHEN trim(row.personnelSecurityGroup) = 'R' THEN [1] ELSE [] END |\n",
    "                    MERGE (ps)-[:RESPONSIBLE_FOR]->(ctrl)\n",
    "                )\n",
    "                FOREACH (i in CASE WHEN trim(row.personnelSecurityGroup) = 'S' THEN [1] ELSE [] END |\n",
    "                    MERGE (ps)-[:SUPPORTS]->(ctrl)\n",
    "                )\n",
    "        )\n",
    "        FOREACH (i in CASE WHEN trim(row.learningCenter)  <> '' THEN [1] ELSE [] END |\n",
    "                MERGE (lc:LearningCenter {name:'Learning Center'})\n",
    "                FOREACH (i in CASE WHEN trim(row.personnelSecurityGroup) = 'R' THEN [1] ELSE [] END |\n",
    "                    MERGE (lc)-[:RESPONSIBLE_FOR]->(ctrl)\n",
    "                )\n",
    "                FOREACH (i in CASE WHEN trim(row.personnelSecurityGroup) = 'S' THEN [1] ELSE [] END |\n",
    "                    MERGE (lc)-[:SUPPORTS]->(ctrl)\n",
    "                )                    \n",
    "        )\n",
    "        FOREACH (i in CASE \n",
    "                        WHEN trim(row.suggestedPriority)  <> '' \n",
    "                            AND trim(row.suggestedPriority)  <> 'None defined' \n",
    "                        THEN [1] ELSE [] END |\n",
    "                MERGE (priority:Priority {name:trim(row.suggestedPriority)})\n",
    "                MERGE (ctrl)-[:HAS_SUGGESTED_PRIORITY]->(priority)\n",
    "        )\n",
    ")\n",
    "\"\"\"\n",
    "\n",
    "kg.query(catalogue_query)\n"
   ]
  },
  {
   "cell_type": "code",
   "execution_count": 25,
   "id": "d4f460e2-3c0f-452c-9518-9241fc1788a5",
   "metadata": {},
   "outputs": [
    {
     "name": "stdout",
     "output_type": "stream",
     "text": [
      "Node properties:\n",
      "Document {name: STRING}\n",
      "Control {id: STRING, definition: STRING, supplementalGuidance: STRING, name: STRING, genTailorAndImplGuidanceNotes: STRING, SecretMMProfileSpecificNotes: STRING, suggestedPBMMPlaceholderValues: STRING, suggestedSecretMMPlaceholderValues: STRING, PBMMProfileSpecificNotes: STRING}\n",
      "Profile {name: STRING}\n",
      "Family {name: STRING}\n",
      "Class {name: STRING}\n",
      "ITSecurity {name: STRING}\n",
      "LearningCenter {name: STRING}\n",
      "Priority {name: STRING}\n",
      "ITOperations {name: STRING}\n",
      "PersonnelSecurity {name: STRING}\n",
      "ITProjects {name: STRING}\n",
      "PhysicalSecurity {name: STRING}\n",
      "Relationship properties:\n",
      "\n",
      "The relationships:\n",
      "(:Control)-[:PART_OF]->(:Family)\n",
      "(:Control)-[:HAS_SUGGESTED_PRIORITY]->(:Priority)\n",
      "(:Control)-[:REFERENCES]->(:Document)\n",
      "(:Family)-[:BELONGS_TO]->(:Class)\n",
      "(:ITSecurity)-[:RESPONSIBLE_FOR]->(:Control)\n",
      "(:ITSecurity)-[:SUPPORTS]->(:Control)\n",
      "(:LearningCenter)-[:RESPONSIBLE_FOR]->(:Control)\n",
      "(:LearningCenter)-[:SUPPORTS]->(:Control)\n",
      "(:ITOperations)-[:RESPONSIBLE_FOR]->(:Control)\n",
      "(:ITOperations)-[:SUPPORTS]->(:Control)\n",
      "(:PersonnelSecurity)-[:RESPONSIBLE_FOR]->(:Control)\n",
      "(:PersonnelSecurity)-[:SUPPORTS]->(:Control)\n",
      "(:ITProjects)-[:RESPONSIBLE_FOR]->(:Control)\n",
      "(:ITProjects)-[:SUPPORTS]->(:Control)\n",
      "(:PhysicalSecurity)-[:RESPONSIBLE_FOR]->(:Control)\n",
      "(:PhysicalSecurity)-[:SUPPORTS]->(:Control)\n"
     ]
    }
   ],
   "source": [
    "kg.refresh_schema()\n",
    "print(kg.schema)"
   ]
  },
  {
   "cell_type": "code",
   "execution_count": 56,
   "id": "41957448-ec4d-4b72-917d-286a31d6bbe4",
   "metadata": {},
   "outputs": [],
   "source": [
    "from langchain.chains import GraphCypherQAChain\n",
    "\n",
    "chain = GraphCypherQAChain.from_llm(graph=kg, llm=llm, verbose=True)"
   ]
  },
  {
   "cell_type": "code",
   "execution_count": 36,
   "id": "c02f1533-f78d-44f1-b1d6-b02850e37ef9",
   "metadata": {},
   "outputs": [
    {
     "name": "stdout",
     "output_type": "stream",
     "text": [
      "\n",
      "\n",
      "\u001b[1m> Entering new GraphCypherQAChain chain...\u001b[0m\n",
      "Generated Cypher:\n",
      "\u001b[32;1m\u001b[1;3mMATCH (f:Family) RETURN f.name AS FamilyName;\u001b[0m\n",
      "Full Context:\n",
      "\u001b[32;1m\u001b[1;3m[{'FamilyName': 'SI'}, {'FamilyName': 'AC'}, {'FamilyName': 'AT'}, {'FamilyName': 'AU'}, {'FamilyName': 'CA'}, {'FamilyName': 'CM'}, {'FamilyName': 'CP'}, {'FamilyName': 'IA'}, {'FamilyName': 'IR'}, {'FamilyName': 'MA'}]\u001b[0m\n",
      "\n",
      "\u001b[1m> Finished chain.\u001b[0m\n"
     ]
    },
    {
     "data": {
      "text/plain": [
       "{'query': 'What are the Families?',\n",
       " 'result': 'SI, AC, AT, AU, CA, CM, CP, IA, IR, MA.'}"
      ]
     },
     "execution_count": 36,
     "metadata": {},
     "output_type": "execute_result"
    }
   ],
   "source": [
    "response = chain.invoke({\"query\": \"What are the Families?\"})\n",
    "response"
   ]
  },
  {
   "cell_type": "code",
   "execution_count": 37,
   "id": "fe97382d-4790-411e-b083-3f256b2213f6",
   "metadata": {},
   "outputs": [
    {
     "name": "stdout",
     "output_type": "stream",
     "text": [
      "\n",
      "\n",
      "\u001b[1m> Entering new GraphCypherQAChain chain...\u001b[0m\n",
      "Generated Cypher:\n",
      "\u001b[32;1m\u001b[1;3mMATCH (c:Control)-[:PART_OF]->(f:Family) RETURN COUNT(DISTINCT f) AS count\u001b[0m\n",
      "Full Context:\n",
      "\u001b[32;1m\u001b[1;3m[{'count': 17}]\u001b[0m\n",
      "\n",
      "\u001b[1m> Finished chain.\u001b[0m\n"
     ]
    },
    {
     "data": {
      "text/plain": [
       "{'query': 'how many control families are there?',\n",
       " 'result': 'There are 17 control families.'}"
      ]
     },
     "execution_count": 37,
     "metadata": {},
     "output_type": "execute_result"
    }
   ],
   "source": [
    "response = chain.invoke({\"query\": \"how many control families are there?\"})\n",
    "response"
   ]
  },
  {
   "cell_type": "code",
   "execution_count": 61,
   "id": "f7d797df-6d21-4799-8620-c1126280a45b",
   "metadata": {},
   "outputs": [
    {
     "name": "stdout",
     "output_type": "stream",
     "text": [
      "\n",
      "\n",
      "\u001b[1m> Entering new GraphCypherQAChain chain...\u001b[0m\n",
      "Generated Cypher:\n",
      "\u001b[32;1m\u001b[1;3mMATCH (c:Control)-[:PART_OF]->(f:Family) RETURN DISTINCT f.name;\u001b[0m\n",
      "Full Context:\n",
      "\u001b[32;1m\u001b[1;3m[{'f.name': 'SI'}, {'f.name': 'AC'}, {'f.name': 'AT'}, {'f.name': 'AU'}, {'f.name': 'CA'}, {'f.name': 'CM'}, {'f.name': 'CP'}, {'f.name': 'IA'}, {'f.name': 'IR'}, {'f.name': 'MA'}]\u001b[0m\n",
      "\n",
      "\u001b[1m> Finished chain.\u001b[0m\n"
     ]
    },
    {
     "data": {
      "text/plain": [
       "{'query': 'List all the distinct control families',\n",
       " 'result': 'The distinct control families are SI, AC, AT, AU, CA, CM, CP, IA, IR, and MA.'}"
      ]
     },
     "execution_count": 61,
     "metadata": {},
     "output_type": "execute_result"
    }
   ],
   "source": [
    "response = chain.invoke({\"query\": \"List all the distinct control families\"})\n",
    "response"
   ]
  },
  {
   "cell_type": "code",
   "execution_count": 68,
   "id": "ce41fa60-019d-412c-8ab4-b47bf2d1c694",
   "metadata": {},
   "outputs": [
    {
     "name": "stdout",
     "output_type": "stream",
     "text": [
      "\n",
      "\n",
      "\u001b[1m> Entering new GraphCypherQAChain chain...\u001b[0m\n",
      "Generated Cypher:\n",
      "\u001b[32;1m\u001b[1;3mMATCH (c:Control)-[:HAS_SUGGESTED_PRIORITY]->(p:Priority {name: 'P2'})\n",
      "RETURN c.name;\u001b[0m\n",
      "Full Context:\n",
      "\u001b[32;1m\u001b[1;3m[{'c.name': 'PERSONNEL SANCTIONS'}, {'c.name': 'IDENTIFICATION AND AUTHENTICATION (NON-ORGANIZATIONAL USERS)'}, {'c.name': 'SESSION LOCK'}, {'c.name': 'CONTINUOUS MONITORING'}, {'c.name': 'USER-BASED COLLABORATION AND INFORMATION SHARING'}, {'c.name': 'PREVIOUS LOGON (ACCESS) NOTIFICATION'}, {'c.name': 'VOICE OVER INTERNET PROTOCOL'}, {'c.name': 'AUDIT REDUCTION AND REPORT GENERATION'}, {'c.name': 'USE OF EXTERNAL INFORMATION SYSTEMS'}, {'c.name': 'INCIDENT MONITORING'}]\u001b[0m\n",
      "\n",
      "\u001b[1m> Finished chain.\u001b[0m\n"
     ]
    },
    {
     "data": {
      "text/plain": [
       "{'query': 'What are the names of P2 priority controls',\n",
       " 'result': 'The names of P2 priority controls include Personnel Sanctions, Identification and Authentication (Non-Organizational Users), Session Lock, Continuous Monitoring, User-Based Collaboration and Information Sharing, Previous Logon (Access) Notification, Voice over Internet Protocol, Audit Reduction and Report Generation, Use of External Information Systems, and Incident Monitoring.'}"
      ]
     },
     "execution_count": 68,
     "metadata": {},
     "output_type": "execute_result"
    }
   ],
   "source": [
    "response = chain.invoke({\"query\": \"What are the names of P2 priority controls\"})\n",
    "response"
   ]
  },
  {
   "cell_type": "code",
   "execution_count": 92,
   "id": "db0ff008-f962-451e-944a-a774e66f1bb2",
   "metadata": {},
   "outputs": [
    {
     "name": "stdout",
     "output_type": "stream",
     "text": [
      "\n",
      "\n",
      "\u001b[1m> Entering new GraphCypherQAChain chain...\u001b[0m\n",
      "Generated Cypher:\n",
      "\u001b[32;1m\u001b[1;3mMATCH (c:Control)-[:HAS_SUGGESTED_PRIORITY]->(p:Priority)\n",
      "WHERE c.definition CONTAINS \"privilege\" OR c.supplementalGuidance CONTAINS \"privilege\"\n",
      "RETURN c.id, c.name\u001b[0m\n",
      "Full Context:\n",
      "\u001b[32;1m\u001b[1;3m[{'c.id': 'IA5', 'c.name': 'AUTHENTICATOR MANAGEMENT'}, {'c.id': 'AU2', 'c.name': 'AUDITABLE EVENTS'}, {'c.id': 'PL4', 'c.name': 'RULES OF BEHAVIOUR'}, {'c.id': 'PS5', 'c.name': 'PERSONNEL TRANSFER'}, {'c.id': 'AC2', 'c.name': 'ACCOUNT MANAGEMENT'}, {'c.id': 'AC5', 'c.name': 'SEPARATION OF DUTIES'}, {'c.id': 'IA2', 'c.name': 'IDENTIFICATION AND AUTHENTICATION (ORGANIZATIONAL USERS)'}, {'c.id': 'PL8', 'c.name': 'INFORMATION SECURITY ARCHITECTURE'}, {'c.id': 'AC6', 'c.name': 'LEAST PRIVILEGE'}, {'c.id': 'PS7', 'c.name': 'THIRD-PARTY PERSONNEL SECURITY'}]\u001b[0m\n",
      "\n",
      "\u001b[1m> Finished chain.\u001b[0m\n"
     ]
    },
    {
     "data": {
      "text/plain": [
       "{'query': 'What controls are related to privilege? you can look at the control definitions and control supplemental guidance',\n",
       " 'result': 'Account Management (AC2) and Least Privilege (AC6) are controls that relate to privilege. These areas provide guidelines for managing user access rights within an organization, ensuring appropriate levels of permissions are granted.'}"
      ]
     },
     "execution_count": 92,
     "metadata": {},
     "output_type": "execute_result"
    }
   ],
   "source": [
    "response = chain.invoke({\"query\": \"What controls are related to privilege? you can look at the control definitions and control supplemental guidance\"})\n",
    "response"
   ]
  },
  {
   "cell_type": "code",
   "execution_count": 93,
   "id": "25f2a797-a515-49c0-a2f4-7547b5afe263",
   "metadata": {},
   "outputs": [
    {
     "name": "stdout",
     "output_type": "stream",
     "text": [
      "\n",
      "\n",
      "\u001b[1m> Entering new GraphCypherQAChain chain...\u001b[0m\n",
      "Generated Cypher:\n",
      "\u001b[32;1m\u001b[1;3mMATCH (c:Control)-[:SUPPORTS]->(:ITSecurity) RETURN count(c)\u001b[0m\n",
      "Full Context:\n",
      "\u001b[32;1m\u001b[1;3m[{'count(c)': 0}]\u001b[0m\n",
      "\n",
      "\u001b[1m> Finished chain.\u001b[0m\n"
     ]
    },
    {
     "data": {
      "text/plain": [
       "{'query': 'How many controls are IT Security responsible for?',\n",
       " 'result': \"I'm sorry, but without specific data on control counts by department or responsibility area, I can't provide an exact number of controls that IT Security is responsible for. If you have a list of controls and their respective departments, I could assist further with the information available.\"}"
      ]
     },
     "execution_count": 93,
     "metadata": {},
     "output_type": "execute_result"
    }
   ],
   "source": [
    "response = chain.invoke({\"query\": \"How many controls are IT Security responsible for?\"})\n",
    "response"
   ]
  },
  {
   "cell_type": "code",
   "execution_count": 96,
   "id": "b322bac5-1f20-49e4-8b2f-8d141ad6b535",
   "metadata": {},
   "outputs": [
    {
     "name": "stdout",
     "output_type": "stream",
     "text": [
      "\n",
      "\n",
      "\u001b[1m> Entering new GraphCypherQAChain chain...\u001b[0m\n",
      "Generated Cypher:\n",
      "\u001b[32;1m\u001b[1;3mMATCH (c:Control)-[:RESPONSIBLE_FOR]->(:ITSecurity) RETURN c.name\u001b[0m\n",
      "Full Context:\n",
      "\u001b[32;1m\u001b[1;3m[]\u001b[0m\n",
      "\n",
      "\u001b[1m> Finished chain.\u001b[0m\n"
     ]
    },
    {
     "data": {
      "text/plain": [
       "{'query': 'can you list those controls for which IT Security is responsible?',\n",
       " 'result': \"I'm sorry, but without specific details on the controls and their respective responsibilities, I can't provide a list of IT security-related controls at this time. If you have more information or context to share, that would be very helpful in giving an accurate response.\"}"
      ]
     },
     "execution_count": 96,
     "metadata": {},
     "output_type": "execute_result"
    }
   ],
   "source": [
    "response = chain.invoke({\"query\": \"can you list those controls for which IT Security is responsible?\"})\n",
    "response"
   ]
  },
  {
   "cell_type": "code",
   "execution_count": 100,
   "id": "b23c06bb-646f-44c3-93a4-34b453fe26c6",
   "metadata": {},
   "outputs": [
    {
     "name": "stdout",
     "output_type": "stream",
     "text": [
      "\n",
      "\n",
      "\u001b[1m> Entering new GraphCypherQAChain chain...\u001b[0m\n",
      "Generated Cypher:\n",
      "\u001b[32;1m\u001b[1;3mMATCH (c:Control)-[:RESPONSIBLE_FOR]->(itSec:ITSecurity) RETURN c;\u001b[0m\n",
      "Full Context:\n",
      "\u001b[32;1m\u001b[1;3m[]\u001b[0m\n",
      "\n",
      "\u001b[1m> Finished chain.\u001b[0m\n"
     ]
    },
    {
     "data": {
      "text/plain": [
       "{'query': 'Refelct on the query again, and tell me those controls that IT Security is responsible',\n",
       " 'result': \"I apologize for not having specific details at hand right now, but generally speaking, IT Security teams are typically responsible for implementing various controls to ensure data protection, system integrity, and compliance with relevant regulations. These may include access control measures, encryption protocols, network security policies, and regular audits among others. For precise controls related to a specific organization's IT Security responsibilities, I would recommend consulting their internal documentation or contacting the IT department directly.\"}"
      ]
     },
     "execution_count": 100,
     "metadata": {},
     "output_type": "execute_result"
    }
   ],
   "source": [
    "response = chain.invoke({\"query\": \"Refelct on the query again, and tell me those controls that IT Security is responsible\"})\n",
    "response"
   ]
  },
  {
   "cell_type": "code",
   "execution_count": 106,
   "id": "05f983cc-347b-48c4-bef5-ec5ca1d93446",
   "metadata": {},
   "outputs": [
    {
     "name": "stdout",
     "output_type": "stream",
     "text": [
      "\n",
      "\n",
      "\u001b[1m> Entering new GraphCypherQAChain chain...\u001b[0m\n",
      "Generated Cypher:\n",
      "\u001b[32;1m\u001b[1;3mMATCH (itSec:ITSecurity)-[:RESPONSIBLE_FOR]->(control:Control) RETURN control.name\u001b[0m\n",
      "Full Context:\n",
      "\u001b[32;1m\u001b[1;3m[{'control.name': 'PLAN OF ACTION AND MILESTONES'}, {'control.name': 'SECURITY AUTHORIZATION'}, {'control.name': 'INFORMATION SYSTEM MONITORING'}, {'control.name': 'ACCESS CONTROL DECISIONS'}, {'control.name': 'AUDITABLE EVENTS'}, {'control.name': 'SECURITY PLANNING POLICY AND PROCEDURES'}, {'control.name': 'RULES OF BEHAVIOUR'}, {'control.name': 'INCIDENT RESPONSE TESTING AND EXERCISES'}, {'control.name': 'TELECOMMUNICATIONS SERVICES'}, {'control.name': 'INFORMATION OUTPUT HANDLING AND RETENTION'}]\u001b[0m\n",
      "\n",
      "\u001b[1m> Finished chain.\u001b[0m\n"
     ]
    },
    {
     "data": {
      "text/plain": [
       "{'query': 'IT Security is reponsible for certain controls. Please tell me the names of those controls',\n",
       " 'result': 'IT Security is responsible for several controls, including PLAN OF ACTION AND MILESTONES, SECURITY AUTHORIZATION, INFORMATION SYSTEM MONITORING, ACCESS CONTROL DECISIONS, and SECURITY PLANNING POLICY AND PROCEDURES.'}"
      ]
     },
     "execution_count": 106,
     "metadata": {},
     "output_type": "execute_result"
    }
   ],
   "source": [
    "response = chain.invoke({\"query\": \"IT Security is reponsible for certain controls. Please tell me the names of those controls\"})\n",
    "response"
   ]
  },
  {
   "cell_type": "code",
   "execution_count": 107,
   "id": "884fcccc-d657-4787-81e5-7e93bfd2bcf7",
   "metadata": {},
   "outputs": [
    {
     "name": "stdout",
     "output_type": "stream",
     "text": [
      "\n",
      "\n",
      "\u001b[1m> Entering new GraphCypherQAChain chain...\u001b[0m\n",
      "Generated Cypher:\n",
      "\u001b[32;1m\u001b[1;3mMATCH (itSec:ITSecurity)-[:SUPPORTS]->(control:Control) RETURN DISTINCT control.name\u001b[0m\n",
      "Full Context:\n",
      "\u001b[32;1m\u001b[1;3m[{'control.name': 'SYSTEM SECURITY PLAN'}, {'control.name': 'DEVELOPMENT PROCESS, STANDARDS, AND TOOL'}, {'control.name': 'RESPONSE TO AUDIT PROCESSING FAILURES'}, {'control.name': 'SECURITY ATTRIBUTES'}, {'control.name': 'IDENTIFICATION AND AUTHENTICATION (ORGANIZATIONAL USERS)'}, {'control.name': 'DEVELOPER SECURITY TESTING'}, {'control.name': 'COLLABORATIVE COMPUTING DEVICES'}, {'control.name': 'DEVICE IDENTIFICATION AND AUTHENTICATION'}, {'control.name': 'PERSONNEL SECURITY POLICY AND PROCEDURES'}, {'control.name': 'WIRELESS ACCESS'}]\u001b[0m\n",
      "\n",
      "\u001b[1m> Finished chain.\u001b[0m\n"
     ]
    },
    {
     "data": {
      "text/plain": [
       "{'query': 'IT Security supports certain controls. Please tell me the names of those controls',\n",
       " 'result': 'IT Security supports several controls, including SYSTEM SECURITY PLAN, DEVELOPMENT PROCESS, STANDARDS, AND TOOL; RESPONSE TO AUDIT PROCESSING FAILURES; IDENTIFICATION AND AUTHENTICATION for organizational users; DEVELOPER SECURITY TESTING; COLLABORATIVE COMPUTING DEVICES; DEVICE IDENTIFICATION AND AUTHENTICATION; PERSONNEL SECURITY POLICY AND PROCEDURES; and WIRELESS ACCESS.'}"
      ]
     },
     "execution_count": 107,
     "metadata": {},
     "output_type": "execute_result"
    }
   ],
   "source": [
    "response = chain.invoke({\"query\": \"IT Security supports certain controls. Please tell me the names of those controls\"})\n",
    "response"
   ]
  },
  {
   "cell_type": "code",
   "execution_count": 118,
   "id": "2305ae14-e7b0-4461-a21e-430ef93e8641",
   "metadata": {},
   "outputs": [
    {
     "name": "stdout",
     "output_type": "stream",
     "text": [
      "\n",
      "\n",
      "\u001b[1m> Entering new GraphCypherQAChain chain...\u001b[0m\n",
      "Generated Cypher:\n",
      "\u001b[32;1m\u001b[1;3mMATCH (ps:PersonnelSecurity)-[:RESPONSIBLE_FOR]->(c:Control) RETURN c.name;\u001b[0m\n",
      "Full Context:\n",
      "\u001b[32;1m\u001b[1;3m[{'c.name': 'PERSONNEL TERMINATION'}, {'c.name': 'PERSONNEL SANCTIONS'}, {'c.name': 'POSITION CATEGORIZATION'}, {'c.name': 'ACCESS AGREEMENTS'}, {'c.name': 'PERSONNEL SCREENING'}, {'c.name': 'PERSONNEL SECURITY POLICY AND PROCEDURES'}, {'c.name': 'PERSONNEL TRANSFER'}, {'c.name': 'THIRD-PARTY PERSONNEL SECURITY'}]\u001b[0m\n",
      "\n",
      "\u001b[1m> Finished chain.\u001b[0m\n"
     ]
    },
    {
     "data": {
      "text/plain": [
       "{'query': 'Personnel Security is responsile for certain controls. What are those controls?',\n",
       " 'result': 'Personnel Security oversees various controls, including personnel termination procedures, sanctions related to personnel, position categorization, access agreements, screening processes, security policies and procedures, personnel transfer protocols, as well as third-party personnel security measures.'}"
      ]
     },
     "execution_count": 118,
     "metadata": {},
     "output_type": "execute_result"
    }
   ],
   "source": [
    "response = chain.invoke({\"query\": \"Personnel Security is responsile for certain controls. What are those controls?\"})\n",
    "response"
   ]
  },
  {
   "cell_type": "code",
   "execution_count": 122,
   "id": "2ea8679c-fb34-46e0-a7a7-a2b993400aa6",
   "metadata": {},
   "outputs": [
    {
     "name": "stdout",
     "output_type": "stream",
     "text": [
      "\n",
      "\n",
      "\u001b[1m> Entering new GraphCypherQAChain chain...\u001b[0m\n",
      "Generated Cypher:\n",
      "\u001b[32;1m\u001b[1;3mMATCH (c:Control {id:'CA9'}) RETURN c.definition\u001b[0m\n",
      "Full Context:\n",
      "\u001b[32;1m\u001b[1;3m[{'c.definition': '(A)\\tThe organization authorizes internal connections of [Assignment: organization-defined information system components or classes of components] to the information system.\\n(B)\\tThe organization documents, for each internal connection, the interface characteristics, security requirements, and the nature of the information communicated.'}]\u001b[0m\n",
      "\n",
      "\u001b[1m> Finished chain.\u001b[0m\n"
     ]
    },
    {
     "data": {
      "text/plain": [
       "{'query': \"What is the definition of control with id 'CA9'?\",\n",
       " 'result': 'Control CA9 refers to an organizational authorization that allows for defined internal connections between system components or classes of components. This includes documenting interface characteristics, security requirements, and the nature of information communicated through each connection.'}"
      ]
     },
     "execution_count": 122,
     "metadata": {},
     "output_type": "execute_result"
    }
   ],
   "source": [
    "response = chain.invoke({\"query\": \"What is the definition of control with id 'CA9'?\"})\n",
    "response"
   ]
  },
  {
   "cell_type": "code",
   "execution_count": 131,
   "id": "7442b1ef-5cb3-4916-8719-d576ece0e81d",
   "metadata": {},
   "outputs": [
    {
     "name": "stdout",
     "output_type": "stream",
     "text": [
      "\n",
      "\n",
      "\u001b[1m> Entering new GraphCypherQAChain chain...\u001b[0m\n",
      "Generated Cypher:\n",
      "\u001b[32;1m\u001b[1;3mMATCH (c:Control {id: 'AC1'})-[:REFERENCES]->(d:Document)\n",
      "WHERE d.name IS NOT NULL\n",
      "RETURN c LIMIT 1;\u001b[0m\n",
      "Full Context:\n",
      "\u001b[32;1m\u001b[1;3m[{'c': {'suggestedPBMMPlaceholderValues': '(A) (B) frequency [at a frequency no longer than annually]', 'suggestedSecretMMPlaceholderValues': '(A) (B) frequency [at a frequency no longer than annually]', 'name': 'ACCESS CONTROL POLICY AND PROCEDURES', 'definition': '(A)\\tThe organization develops, documents, and disseminates to [Assignment: organization-defined personnel or roles]:\\n(a)\\tAn access control policy that addresses purpose, scope, roles, responsibilities, management commitment, coordination among organizational entities, and compliance; and\\n(b)\\tProcedures to facilitate the implementation of the access control policy and associated access controls.\\n(B)\\tThe organization reviews and updates the current:\\n(a)\\tAccess control policy [Assignment: organization-defined frequency]; and\\n(b)\\tAccess control procedures [Assignment: organization-defined frequency].', 'id': 'AC1', 'supplementalGuidance': 'This control addresses the establishment of policy and procedures for the effective implementation of selected security controls and control enhancements in the AC family. Policy and procedures reflect applicable GC legislation and TBS policies, directives and standards. Security program policies and procedures at the organization level may make the need for system-specific policies and procedures unnecessary. The policy can be included as part of the general information security policy for organizations or conversely, can be represented by multiple policies reflecting the complex nature of certain organizations. The procedures can be established for the security program in general and for particular information systems, if needed. The organizational risk management strategy is a key factor in establishing policy and procedures'}}]\u001b[0m\n",
      "\n",
      "\u001b[1m> Finished chain.\u001b[0m\n"
     ]
    },
    {
     "data": {
      "text/plain": [
       "{'query': \"are the any guidance on control 'AC1'?\",\n",
       " 'result': 'Yes, there is guidance on control AC1 which outlines the establishment of policies and procedures for effective implementation of selected security controls. It reflects applicable legislation and standards while considering the organizational risk management strategy.'}"
      ]
     },
     "execution_count": 131,
     "metadata": {},
     "output_type": "execute_result"
    }
   ],
   "source": [
    "response = chain.invoke({\"query\": \"are the any guidance on control 'AC1'?\"})\n",
    "response"
   ]
  },
  {
   "cell_type": "markdown",
   "id": "fa468ebb-3021-4dc6-94cd-7bf64d02fb96",
   "metadata": {},
   "source": [
    "## Fix the Control IDs to add a '-' between the family and the control id"
   ]
  },
  {
   "cell_type": "code",
   "execution_count": 132,
   "id": "da9d7f63-def9-444f-a171-75595a6efb9f",
   "metadata": {
    "scrolled": true
   },
   "outputs": [
    {
     "name": "stdout",
     "output_type": "stream",
     "text": [
      "CPU times: user 11.7 ms, sys: 0 ns, total: 11.7 ms\n",
      "Wall time: 27 ms\n"
     ]
    },
    {
     "data": {
      "text/plain": [
       "[{'c.id': 'SC32'},\n",
       " {'c.id': 'SC33'},\n",
       " {'c.id': 'SC34'},\n",
       " {'c.id': 'SC35'},\n",
       " {'c.id': 'SC36'},\n",
       " {'c.id': 'SC37'},\n",
       " {'c.id': 'SC38'},\n",
       " {'c.id': 'SC39'},\n",
       " {'c.id': 'SC40'},\n",
       " {'c.id': 'SC41'},\n",
       " {'c.id': 'SC42'},\n",
       " {'c.id': 'SC43'},\n",
       " {'c.id': 'SC44'},\n",
       " {'c.id': 'SC100'},\n",
       " {'c.id': 'SC101'},\n",
       " {'c.id': 'SI1'},\n",
       " {'c.id': 'SI2'},\n",
       " {'c.id': 'SI3'},\n",
       " {'c.id': 'SI4'},\n",
       " {'c.id': 'SI5'},\n",
       " {'c.id': 'SI6'},\n",
       " {'c.id': 'SI7'},\n",
       " {'c.id': 'SI8'},\n",
       " {'c.id': 'SI9'},\n",
       " {'c.id': 'SI10'},\n",
       " {'c.id': 'SI11'},\n",
       " {'c.id': 'SI12'},\n",
       " {'c.id': 'SI13'},\n",
       " {'c.id': 'SI14'},\n",
       " {'c.id': 'SI15'},\n",
       " {'c.id': 'SI16'},\n",
       " {'c.id': 'SI17'},\n",
       " {'c.id': 'AC1'},\n",
       " {'c.id': 'AC2'},\n",
       " {'c.id': 'AC3'},\n",
       " {'c.id': 'AC4'},\n",
       " {'c.id': 'AC5'},\n",
       " {'c.id': 'AC6'},\n",
       " {'c.id': 'AC7'},\n",
       " {'c.id': 'AC8'},\n",
       " {'c.id': 'AC9'},\n",
       " {'c.id': 'AC10'},\n",
       " {'c.id': 'AC11'},\n",
       " {'c.id': 'AC12'},\n",
       " {'c.id': 'AC13'},\n",
       " {'c.id': 'AC14'},\n",
       " {'c.id': 'AC15'},\n",
       " {'c.id': 'AC16'},\n",
       " {'c.id': 'AC17'},\n",
       " {'c.id': 'AC18'},\n",
       " {'c.id': 'AC19'},\n",
       " {'c.id': 'AC20'},\n",
       " {'c.id': 'AC21'},\n",
       " {'c.id': 'AC22'},\n",
       " {'c.id': 'AC23'},\n",
       " {'c.id': 'AC24'},\n",
       " {'c.id': 'AC25'},\n",
       " {'c.id': 'AT1'},\n",
       " {'c.id': 'AT2'},\n",
       " {'c.id': 'AT3'},\n",
       " {'c.id': 'AT4'},\n",
       " {'c.id': 'AT5'},\n",
       " {'c.id': 'AU1'},\n",
       " {'c.id': 'AU2'},\n",
       " {'c.id': 'AU3'},\n",
       " {'c.id': 'AU4'},\n",
       " {'c.id': 'AU5'},\n",
       " {'c.id': 'AU6'},\n",
       " {'c.id': 'AU7'},\n",
       " {'c.id': 'AU8'},\n",
       " {'c.id': 'AU9'},\n",
       " {'c.id': 'AU10'},\n",
       " {'c.id': 'AU11'},\n",
       " {'c.id': 'AU12'},\n",
       " {'c.id': 'AU13'},\n",
       " {'c.id': 'AU14'},\n",
       " {'c.id': 'AU15'},\n",
       " {'c.id': 'AU16'},\n",
       " {'c.id': 'CA1'},\n",
       " {'c.id': 'CA2'},\n",
       " {'c.id': 'CA3'},\n",
       " {'c.id': 'CA4'},\n",
       " {'c.id': 'CA5'},\n",
       " {'c.id': 'CA6'},\n",
       " {'c.id': 'CA7'},\n",
       " {'c.id': 'CA8'},\n",
       " {'c.id': 'CA9'},\n",
       " {'c.id': 'CM1'},\n",
       " {'c.id': 'CM2'},\n",
       " {'c.id': 'CM3'},\n",
       " {'c.id': 'CM4'},\n",
       " {'c.id': 'CM5'},\n",
       " {'c.id': 'CM6'},\n",
       " {'c.id': 'CM7'},\n",
       " {'c.id': 'CM8'},\n",
       " {'c.id': 'CM9'},\n",
       " {'c.id': 'CM10'},\n",
       " {'c.id': 'CM11'},\n",
       " {'c.id': 'CP1'},\n",
       " {'c.id': 'CP2'},\n",
       " {'c.id': 'CP3'},\n",
       " {'c.id': 'CP4'},\n",
       " {'c.id': 'CP5'},\n",
       " {'c.id': 'CP6'},\n",
       " {'c.id': 'CP7'},\n",
       " {'c.id': 'CP8'},\n",
       " {'c.id': 'CP9'},\n",
       " {'c.id': 'CP10'},\n",
       " {'c.id': 'CP11'},\n",
       " {'c.id': 'CP12'},\n",
       " {'c.id': 'CP13'},\n",
       " {'c.id': 'IA1'},\n",
       " {'c.id': 'IA2'},\n",
       " {'c.id': 'IA3'},\n",
       " {'c.id': 'IA4'},\n",
       " {'c.id': 'IA5'},\n",
       " {'c.id': 'IA6'},\n",
       " {'c.id': 'IA7'},\n",
       " {'c.id': 'IA8'},\n",
       " {'c.id': 'IA9'},\n",
       " {'c.id': 'IA10'},\n",
       " {'c.id': 'IA11'},\n",
       " {'c.id': 'IR1'},\n",
       " {'c.id': 'IR2'},\n",
       " {'c.id': 'IR3'},\n",
       " {'c.id': 'IR4'},\n",
       " {'c.id': 'IR5'},\n",
       " {'c.id': 'IR6'},\n",
       " {'c.id': 'IR7'},\n",
       " {'c.id': 'IR8'},\n",
       " {'c.id': 'IR9'},\n",
       " {'c.id': 'IR10'},\n",
       " {'c.id': 'MA1'},\n",
       " {'c.id': 'MA2'},\n",
       " {'c.id': 'MA3'},\n",
       " {'c.id': 'MA4'},\n",
       " {'c.id': 'MA5'},\n",
       " {'c.id': 'MA6'},\n",
       " {'c.id': 'MP1'},\n",
       " {'c.id': 'MP2'},\n",
       " {'c.id': 'MP3'},\n",
       " {'c.id': 'MP4'},\n",
       " {'c.id': 'MP5'},\n",
       " {'c.id': 'MP6'},\n",
       " {'c.id': 'MP7'},\n",
       " {'c.id': 'MP8'},\n",
       " {'c.id': 'PE1'},\n",
       " {'c.id': 'PE2'},\n",
       " {'c.id': 'PE3'},\n",
       " {'c.id': 'PE4'},\n",
       " {'c.id': 'PE5'},\n",
       " {'c.id': 'PE6'},\n",
       " {'c.id': 'PE7'},\n",
       " {'c.id': 'PE8'},\n",
       " {'c.id': 'PE9'},\n",
       " {'c.id': 'PE10'},\n",
       " {'c.id': 'PE11'},\n",
       " {'c.id': 'PE12'},\n",
       " {'c.id': 'PE13'},\n",
       " {'c.id': 'PE14'},\n",
       " {'c.id': 'PE15'},\n",
       " {'c.id': 'PE16'},\n",
       " {'c.id': 'PE17'},\n",
       " {'c.id': 'PE18'},\n",
       " {'c.id': 'PE19'},\n",
       " {'c.id': 'PE20'},\n",
       " {'c.id': 'PL1'},\n",
       " {'c.id': 'PL2'},\n",
       " {'c.id': 'PL3'},\n",
       " {'c.id': 'PL4'},\n",
       " {'c.id': 'PL5'},\n",
       " {'c.id': 'PL6'},\n",
       " {'c.id': 'PL7'},\n",
       " {'c.id': 'PL8'},\n",
       " {'c.id': 'PL9'},\n",
       " {'c.id': 'PS1'},\n",
       " {'c.id': 'PS2'},\n",
       " {'c.id': 'PS3'},\n",
       " {'c.id': 'PS4'},\n",
       " {'c.id': 'PS5'},\n",
       " {'c.id': 'PS6'},\n",
       " {'c.id': 'PS7'},\n",
       " {'c.id': 'PS8'},\n",
       " {'c.id': 'RA1'},\n",
       " {'c.id': 'RA2'},\n",
       " {'c.id': 'RA3'},\n",
       " {'c.id': 'RA4'},\n",
       " {'c.id': 'RA5'},\n",
       " {'c.id': 'RA6'},\n",
       " {'c.id': 'SA1'},\n",
       " {'c.id': 'SA2'},\n",
       " {'c.id': 'SA3'},\n",
       " {'c.id': 'SA4'},\n",
       " {'c.id': 'SA5'},\n",
       " {'c.id': 'SA6'},\n",
       " {'c.id': 'SA7'},\n",
       " {'c.id': 'SA8'},\n",
       " {'c.id': 'SA9'},\n",
       " {'c.id': 'SA10'},\n",
       " {'c.id': 'SA11'},\n",
       " {'c.id': 'SA12'},\n",
       " {'c.id': 'SA13'},\n",
       " {'c.id': 'SA14'},\n",
       " {'c.id': 'SA15'},\n",
       " {'c.id': 'SA16'},\n",
       " {'c.id': 'SA17'},\n",
       " {'c.id': 'SA18'},\n",
       " {'c.id': 'SA19'},\n",
       " {'c.id': 'SA20'},\n",
       " {'c.id': 'SA21'},\n",
       " {'c.id': 'SA22'},\n",
       " {'c.id': 'SC1'},\n",
       " {'c.id': 'SC2'},\n",
       " {'c.id': 'SC3'},\n",
       " {'c.id': 'SC4'},\n",
       " {'c.id': 'SC5'},\n",
       " {'c.id': 'SC6'},\n",
       " {'c.id': 'SC7'},\n",
       " {'c.id': 'SC8'},\n",
       " {'c.id': 'SC9'},\n",
       " {'c.id': 'SC10'},\n",
       " {'c.id': 'SC11'},\n",
       " {'c.id': 'SC12'},\n",
       " {'c.id': 'SC13'},\n",
       " {'c.id': 'SC14'},\n",
       " {'c.id': 'SC15'},\n",
       " {'c.id': 'SC16'},\n",
       " {'c.id': 'SC17'},\n",
       " {'c.id': 'SC18'},\n",
       " {'c.id': 'SC19'},\n",
       " {'c.id': 'SC20'},\n",
       " {'c.id': 'SC21'},\n",
       " {'c.id': 'SC22'},\n",
       " {'c.id': 'SC23'},\n",
       " {'c.id': 'SC24'},\n",
       " {'c.id': 'SC25'},\n",
       " {'c.id': 'SC26'},\n",
       " {'c.id': 'SC27'},\n",
       " {'c.id': 'SC28'},\n",
       " {'c.id': 'SC29'},\n",
       " {'c.id': 'SC30'},\n",
       " {'c.id': 'SC31'}]"
      ]
     },
     "execution_count": 132,
     "metadata": {},
     "output_type": "execute_result"
    }
   ],
   "source": [
    "%%time\n",
    "catalogue_query =  \"\"\"\n",
    "MATCH (c:Control)\n",
    "return c.id\n",
    "\"\"\"\n",
    "kg.query(catalogue_query)"
   ]
  },
  {
   "cell_type": "code",
   "execution_count": 136,
   "id": "f2dc235e-fdbd-4089-a432-b43bc85bec16",
   "metadata": {
    "scrolled": true
   },
   "outputs": [
    {
     "name": "stdout",
     "output_type": "stream",
     "text": [
      "CPU times: user 2.62 ms, sys: 0 ns, total: 2.62 ms\n",
      "Wall time: 96.3 ms\n"
     ]
    },
    {
     "data": {
      "text/plain": [
       "[]"
      ]
     },
     "execution_count": 136,
     "metadata": {},
     "output_type": "execute_result"
    }
   ],
   "source": [
    "%%time\n",
    "catalogue_query =  \"\"\"\n",
    "MATCH (c:Control)\n",
    "SET c.id = substring(c.id, 0, 2) + \"-\" + substring(c.id, 2)\n",
    "\"\"\"\n",
    "kg.query(catalogue_query)"
   ]
  },
  {
   "cell_type": "code",
   "execution_count": 137,
   "id": "af49ac62-7bb9-4f2e-8619-bc6517eff805",
   "metadata": {
    "scrolled": true
   },
   "outputs": [
    {
     "name": "stdout",
     "output_type": "stream",
     "text": [
      "CPU times: user 11.7 ms, sys: 0 ns, total: 11.7 ms\n",
      "Wall time: 13.9 ms\n"
     ]
    },
    {
     "data": {
      "text/plain": [
       "[{'c.id': 'SC-32'},\n",
       " {'c.id': 'SC-33'},\n",
       " {'c.id': 'SC-34'},\n",
       " {'c.id': 'SC-35'},\n",
       " {'c.id': 'SC-36'},\n",
       " {'c.id': 'SC-37'},\n",
       " {'c.id': 'SC-38'},\n",
       " {'c.id': 'SC-39'},\n",
       " {'c.id': 'SC-40'},\n",
       " {'c.id': 'SC-41'},\n",
       " {'c.id': 'SC-42'},\n",
       " {'c.id': 'SC-43'},\n",
       " {'c.id': 'SC-44'},\n",
       " {'c.id': 'SC-100'},\n",
       " {'c.id': 'SC-101'},\n",
       " {'c.id': 'SI-1'},\n",
       " {'c.id': 'SI-2'},\n",
       " {'c.id': 'SI-3'},\n",
       " {'c.id': 'SI-4'},\n",
       " {'c.id': 'SI-5'},\n",
       " {'c.id': 'SI-6'},\n",
       " {'c.id': 'SI-7'},\n",
       " {'c.id': 'SI-8'},\n",
       " {'c.id': 'SI-9'},\n",
       " {'c.id': 'SI-10'},\n",
       " {'c.id': 'SI-11'},\n",
       " {'c.id': 'SI-12'},\n",
       " {'c.id': 'SI-13'},\n",
       " {'c.id': 'SI-14'},\n",
       " {'c.id': 'SI-15'},\n",
       " {'c.id': 'SI-16'},\n",
       " {'c.id': 'SI-17'},\n",
       " {'c.id': 'AC-1'},\n",
       " {'c.id': 'AC-2'},\n",
       " {'c.id': 'AC-3'},\n",
       " {'c.id': 'AC-4'},\n",
       " {'c.id': 'AC-5'},\n",
       " {'c.id': 'AC-6'},\n",
       " {'c.id': 'AC-7'},\n",
       " {'c.id': 'AC-8'},\n",
       " {'c.id': 'AC-9'},\n",
       " {'c.id': 'AC-10'},\n",
       " {'c.id': 'AC-11'},\n",
       " {'c.id': 'AC-12'},\n",
       " {'c.id': 'AC-13'},\n",
       " {'c.id': 'AC-14'},\n",
       " {'c.id': 'AC-15'},\n",
       " {'c.id': 'AC-16'},\n",
       " {'c.id': 'AC-17'},\n",
       " {'c.id': 'AC-18'},\n",
       " {'c.id': 'AC-19'},\n",
       " {'c.id': 'AC-20'},\n",
       " {'c.id': 'AC-21'},\n",
       " {'c.id': 'AC-22'},\n",
       " {'c.id': 'AC-23'},\n",
       " {'c.id': 'AC-24'},\n",
       " {'c.id': 'AC-25'},\n",
       " {'c.id': 'AT-1'},\n",
       " {'c.id': 'AT-2'},\n",
       " {'c.id': 'AT-3'},\n",
       " {'c.id': 'AT-4'},\n",
       " {'c.id': 'AT-5'},\n",
       " {'c.id': 'AU-1'},\n",
       " {'c.id': 'AU-2'},\n",
       " {'c.id': 'AU-3'},\n",
       " {'c.id': 'AU-4'},\n",
       " {'c.id': 'AU-5'},\n",
       " {'c.id': 'AU-6'},\n",
       " {'c.id': 'AU-7'},\n",
       " {'c.id': 'AU-8'},\n",
       " {'c.id': 'AU-9'},\n",
       " {'c.id': 'AU-10'},\n",
       " {'c.id': 'AU-11'},\n",
       " {'c.id': 'AU-12'},\n",
       " {'c.id': 'AU-13'},\n",
       " {'c.id': 'AU-14'},\n",
       " {'c.id': 'AU-15'},\n",
       " {'c.id': 'AU-16'},\n",
       " {'c.id': 'CA-1'},\n",
       " {'c.id': 'CA-2'},\n",
       " {'c.id': 'CA-3'},\n",
       " {'c.id': 'CA-4'},\n",
       " {'c.id': 'CA-5'},\n",
       " {'c.id': 'CA-6'},\n",
       " {'c.id': 'CA-7'},\n",
       " {'c.id': 'CA-8'},\n",
       " {'c.id': 'CA-9'},\n",
       " {'c.id': 'CM-1'},\n",
       " {'c.id': 'CM-2'},\n",
       " {'c.id': 'CM-3'},\n",
       " {'c.id': 'CM-4'},\n",
       " {'c.id': 'CM-5'},\n",
       " {'c.id': 'CM-6'},\n",
       " {'c.id': 'CM-7'},\n",
       " {'c.id': 'CM-8'},\n",
       " {'c.id': 'CM-9'},\n",
       " {'c.id': 'CM-10'},\n",
       " {'c.id': 'CM-11'},\n",
       " {'c.id': 'CP-1'},\n",
       " {'c.id': 'CP-2'},\n",
       " {'c.id': 'CP-3'},\n",
       " {'c.id': 'CP-4'},\n",
       " {'c.id': 'CP-5'},\n",
       " {'c.id': 'CP-6'},\n",
       " {'c.id': 'CP-7'},\n",
       " {'c.id': 'CP-8'},\n",
       " {'c.id': 'CP-9'},\n",
       " {'c.id': 'CP-10'},\n",
       " {'c.id': 'CP-11'},\n",
       " {'c.id': 'CP-12'},\n",
       " {'c.id': 'CP-13'},\n",
       " {'c.id': 'IA-1'},\n",
       " {'c.id': 'IA-2'},\n",
       " {'c.id': 'IA-3'},\n",
       " {'c.id': 'IA-4'},\n",
       " {'c.id': 'IA-5'},\n",
       " {'c.id': 'IA-6'},\n",
       " {'c.id': 'IA-7'},\n",
       " {'c.id': 'IA-8'},\n",
       " {'c.id': 'IA-9'},\n",
       " {'c.id': 'IA-10'},\n",
       " {'c.id': 'IA-11'},\n",
       " {'c.id': 'IR-1'},\n",
       " {'c.id': 'IR-2'},\n",
       " {'c.id': 'IR-3'},\n",
       " {'c.id': 'IR-4'},\n",
       " {'c.id': 'IR-5'},\n",
       " {'c.id': 'IR-6'},\n",
       " {'c.id': 'IR-7'},\n",
       " {'c.id': 'IR-8'},\n",
       " {'c.id': 'IR-9'},\n",
       " {'c.id': 'IR-10'},\n",
       " {'c.id': 'MA-1'},\n",
       " {'c.id': 'MA-2'},\n",
       " {'c.id': 'MA-3'},\n",
       " {'c.id': 'MA-4'},\n",
       " {'c.id': 'MA-5'},\n",
       " {'c.id': 'MA-6'},\n",
       " {'c.id': 'MP-1'},\n",
       " {'c.id': 'MP-2'},\n",
       " {'c.id': 'MP-3'},\n",
       " {'c.id': 'MP-4'},\n",
       " {'c.id': 'MP-5'},\n",
       " {'c.id': 'MP-6'},\n",
       " {'c.id': 'MP-7'},\n",
       " {'c.id': 'MP-8'},\n",
       " {'c.id': 'PE-1'},\n",
       " {'c.id': 'PE-2'},\n",
       " {'c.id': 'PE-3'},\n",
       " {'c.id': 'PE-4'},\n",
       " {'c.id': 'PE-5'},\n",
       " {'c.id': 'PE-6'},\n",
       " {'c.id': 'PE-7'},\n",
       " {'c.id': 'PE-8'},\n",
       " {'c.id': 'PE-9'},\n",
       " {'c.id': 'PE-10'},\n",
       " {'c.id': 'PE-11'},\n",
       " {'c.id': 'PE-12'},\n",
       " {'c.id': 'PE-13'},\n",
       " {'c.id': 'PE-14'},\n",
       " {'c.id': 'PE-15'},\n",
       " {'c.id': 'PE-16'},\n",
       " {'c.id': 'PE-17'},\n",
       " {'c.id': 'PE-18'},\n",
       " {'c.id': 'PE-19'},\n",
       " {'c.id': 'PE-20'},\n",
       " {'c.id': 'PL-1'},\n",
       " {'c.id': 'PL-2'},\n",
       " {'c.id': 'PL-3'},\n",
       " {'c.id': 'PL-4'},\n",
       " {'c.id': 'PL-5'},\n",
       " {'c.id': 'PL-6'},\n",
       " {'c.id': 'PL-7'},\n",
       " {'c.id': 'PL-8'},\n",
       " {'c.id': 'PL-9'},\n",
       " {'c.id': 'PS-1'},\n",
       " {'c.id': 'PS-2'},\n",
       " {'c.id': 'PS-3'},\n",
       " {'c.id': 'PS-4'},\n",
       " {'c.id': 'PS-5'},\n",
       " {'c.id': 'PS-6'},\n",
       " {'c.id': 'PS-7'},\n",
       " {'c.id': 'PS-8'},\n",
       " {'c.id': 'RA-1'},\n",
       " {'c.id': 'RA-2'},\n",
       " {'c.id': 'RA-3'},\n",
       " {'c.id': 'RA-4'},\n",
       " {'c.id': 'RA-5'},\n",
       " {'c.id': 'RA-6'},\n",
       " {'c.id': 'SA-1'},\n",
       " {'c.id': 'SA-2'},\n",
       " {'c.id': 'SA-3'},\n",
       " {'c.id': 'SA-4'},\n",
       " {'c.id': 'SA-5'},\n",
       " {'c.id': 'SA-6'},\n",
       " {'c.id': 'SA-7'},\n",
       " {'c.id': 'SA-8'},\n",
       " {'c.id': 'SA-9'},\n",
       " {'c.id': 'SA-10'},\n",
       " {'c.id': 'SA-11'},\n",
       " {'c.id': 'SA-12'},\n",
       " {'c.id': 'SA-13'},\n",
       " {'c.id': 'SA-14'},\n",
       " {'c.id': 'SA-15'},\n",
       " {'c.id': 'SA-16'},\n",
       " {'c.id': 'SA-17'},\n",
       " {'c.id': 'SA-18'},\n",
       " {'c.id': 'SA-19'},\n",
       " {'c.id': 'SA-20'},\n",
       " {'c.id': 'SA-21'},\n",
       " {'c.id': 'SA-22'},\n",
       " {'c.id': 'SC-1'},\n",
       " {'c.id': 'SC-2'},\n",
       " {'c.id': 'SC-3'},\n",
       " {'c.id': 'SC-4'},\n",
       " {'c.id': 'SC-5'},\n",
       " {'c.id': 'SC-6'},\n",
       " {'c.id': 'SC-7'},\n",
       " {'c.id': 'SC-8'},\n",
       " {'c.id': 'SC-9'},\n",
       " {'c.id': 'SC-10'},\n",
       " {'c.id': 'SC-11'},\n",
       " {'c.id': 'SC-12'},\n",
       " {'c.id': 'SC-13'},\n",
       " {'c.id': 'SC-14'},\n",
       " {'c.id': 'SC-15'},\n",
       " {'c.id': 'SC-16'},\n",
       " {'c.id': 'SC-17'},\n",
       " {'c.id': 'SC-18'},\n",
       " {'c.id': 'SC-19'},\n",
       " {'c.id': 'SC-20'},\n",
       " {'c.id': 'SC-21'},\n",
       " {'c.id': 'SC-22'},\n",
       " {'c.id': 'SC-23'},\n",
       " {'c.id': 'SC-24'},\n",
       " {'c.id': 'SC-25'},\n",
       " {'c.id': 'SC-26'},\n",
       " {'c.id': 'SC-27'},\n",
       " {'c.id': 'SC-28'},\n",
       " {'c.id': 'SC-29'},\n",
       " {'c.id': 'SC-30'},\n",
       " {'c.id': 'SC-31'}]"
      ]
     },
     "execution_count": 137,
     "metadata": {},
     "output_type": "execute_result"
    }
   ],
   "source": [
    "%%time\n",
    "catalogue_query =  \"\"\"\n",
    "MATCH (c:Control)\n",
    "return c.id\n",
    "\"\"\"\n",
    "kg.query(catalogue_query)"
   ]
  },
  {
   "cell_type": "markdown",
   "id": "238b2c80-aba1-4142-b93a-0ac5f329f58c",
   "metadata": {},
   "source": [
    "## Add the missing control enhancements"
   ]
  },
  {
   "cell_type": "code",
   "execution_count": 140,
   "id": "5467539f-78ab-444d-890e-50a4f9ddd920",
   "metadata": {},
   "outputs": [
    {
     "name": "stdout",
     "output_type": "stream",
     "text": [
      "CPU times: user 2.36 ms, sys: 0 ns, total: 2.36 ms\n",
      "Wall time: 1.38 s\n"
     ]
    },
    {
     "data": {
      "text/plain": [
       "[]"
      ]
     },
     "execution_count": 140,
     "metadata": {},
     "output_type": "execute_result"
    }
   ],
   "source": [
    "%%time\n",
    "catalogue_query =  \"\"\"\n",
    "LOAD CSV WITH HEADERS FROM 'file:///itsg33-ann4a-eng.csv'\n",
    "AS row\n",
    "\n",
    "FOREACH (i in CASE WHEN COALESCE(trim(row.enhancement), '') <> '' THEN [1] ELSE [] END |\n",
    "        MERGE (ce:ControlEnhancement {id:row.family + '-' + row.controlId + '-' + row.enhancement})\n",
    "        SET ce.name = trim(row.name),\n",
    "            ce.definition = trim(row.definition),\n",
    "            ce.supplementalGuidance = trim(row.supplementalGuidance),\n",
    "            ce.genTailorAndImplGuidanceNotes = trim(row.generalTailoringAndImplementationGuidanceNotes),\n",
    "            ce.suggestedPBMMPlaceholderValues = trim(row.suggestedPBMMPlaceholderValues),\n",
    "            ce.PBMMProfileSpecificNotes = trim(row.PBMMProfileSpecificNotes),\n",
    "            ce.suggestedSecretMMPlaceholderValues = trim(row.suggestedSecretMMPlaceholderValues),\n",
    "            ce.SecretMMProfileSpecificNotes = trim(row.SecretMMProfileSpecificNotes)\n",
    "        MERGE (f:Family {name:row.family})\n",
    "        MERGE (ce)-[:PART_OF]->(f)\n",
    "        \n",
    "        MERGE (control:Control {id:row.family + '-' + row.controlId})\n",
    "        MERGE (ce)-[:ENHANCES]->(control)\n",
    "        \n",
    "        FOREACH (i in CASE WHEN COALESCE(trim(row.class), '') <> '' THEN [1] ELSE [] END |\n",
    "            MERGE (c:Class {name:row.class})\n",
    "            MERGE (f)-[:BELONGS_TO]->(c) \n",
    "        )        \n",
    "        FOREACH (i in CASE WHEN COALESCE(trim(row.references), '') <> '' THEN [1] ELSE [] END |\n",
    "            MERGE (d:Document {name: row.references})\n",
    "            MERGE (ce)-[:REFERENCES]->(d)\n",
    "        )\n",
    "        FOREACH (i in CASE WHEN trim(row.suggestedForPBMMProfile) = 'X' THEN [1] ELSE [] END |\n",
    "                MERGE (pp:Profile {name:'PBMM'})\n",
    "                MERGE (c)-[:SUGGESTED_FOR]->(pp)\n",
    "        )\n",
    "        FOREACH (i in CASE WHEN trim(row.suggestedForSecretMMProfile) = 'X' THEN [1] ELSE [] END |\n",
    "                MERGE (sp:Profile {name:'SecretMM'})\n",
    "                MERGE (c)-[:SUGGESTED_FOR]->(sp)\n",
    "        )\n",
    "        FOREACH (i in CASE WHEN trim(row.itSecurityFunction)  <> '' THEN [1] ELSE [] END |\n",
    "                MERGE (itsf:ITSecurity {name:'IT Security Function'})\n",
    "                FOREACH (i in CASE WHEN trim(row.itSecurityFunction) = 'R' THEN [1] ELSE [] END |\n",
    "                    MERGE (itsf)-[:RESPONSIBLE_FOR]->(ce)\n",
    "                )\n",
    "                FOREACH (i in CASE WHEN trim(row.itSecurityFunction) = 'S' THEN [1] ELSE [] END |\n",
    "                    MERGE (itsf)-[:SUPPORTS]->(ce)\n",
    "                )\n",
    "        )\n",
    "        FOREACH (i in CASE WHEN trim(row.itOperationsGroup)  <> '' THEN [1] ELSE [] END |\n",
    "                MERGE (itog:ITOperations {name:'IT Operations Group'})\n",
    "                FOREACH (i in CASE WHEN trim(row.itOperationsGroup) = 'R' THEN [1] ELSE [] END |\n",
    "                    MERGE (itog)-[:RESPONSIBLE_FOR]->(ce)\n",
    "                )\n",
    "                FOREACH (i in CASE WHEN trim(row.itOperationsGroup) = 'S' THEN [1] ELSE [] END |\n",
    "                    MERGE (itog)-[:SUPPORTS]->(ce)\n",
    "                )\n",
    "        )\n",
    "        FOREACH (i in CASE WHEN trim(row.itProjects)  <> '' THEN [1] ELSE [] END |\n",
    "                MERGE (itp:ITProjects {name:'IT Projects'})\n",
    "                FOREACH (i in CASE WHEN trim(row.itProjects) = 'R' THEN [1] ELSE [] END |\n",
    "                    MERGE (itp)-[:RESPONSIBLE_FOR]->(ce)\n",
    "                )\n",
    "                FOREACH (i in CASE WHEN trim(row.itProjects) = 'S' THEN [1] ELSE [] END |\n",
    "                    MERGE (itp)-[:SUPPORTS]->(ce)\n",
    "                )\n",
    "        )\n",
    "        FOREACH (i in CASE WHEN trim(row.physicalSecurityGroup)  <> '' THEN [1] ELSE [] END |\n",
    "                MERGE (phs:PhysicalSecurity {name:'Physical Security Group'})\n",
    "                FOREACH (i in CASE WHEN trim(row.physicalSecurityGroup) = 'R' THEN [1] ELSE [] END |\n",
    "                    MERGE (phs)-[:RESPONSIBLE_FOR]->(ce)\n",
    "                )\n",
    "                FOREACH (i in CASE WHEN trim(row.physicalSecurityGroup) = 'S' THEN [1] ELSE [] END |\n",
    "                    MERGE (phs)-[:SUPPORTS]->(ce)\n",
    "                )\n",
    "        )\n",
    "        FOREACH (i in CASE WHEN trim(row.personnelSecurityGroup)  <> '' THEN [1] ELSE [] END |\n",
    "                MERGE (ps:PersonnelSecurity {name:'Personnel Security Group'})\n",
    "                FOREACH (i in CASE WHEN trim(row.personnelSecurityGroup) = 'R' THEN [1] ELSE [] END |\n",
    "                    MERGE (ps)-[:RESPONSIBLE_FOR]->(ce)\n",
    "                )\n",
    "                FOREACH (i in CASE WHEN trim(row.personnelSecurityGroup) = 'S' THEN [1] ELSE [] END |\n",
    "                    MERGE (ps)-[:SUPPORTS]->(ce)\n",
    "                )\n",
    "        )\n",
    "        FOREACH (i in CASE WHEN trim(row.learningCenter)  <> '' THEN [1] ELSE [] END |\n",
    "                MERGE (lc:LearningCenter {name:'Learning Center'})\n",
    "                FOREACH (i in CASE WHEN trim(row.personnelSecurityGroup) = 'R' THEN [1] ELSE [] END |\n",
    "                    MERGE (lc)-[:RESPONSIBLE_FOR]->(ce)\n",
    "                )\n",
    "                FOREACH (i in CASE WHEN trim(row.personnelSecurityGroup) = 'S' THEN [1] ELSE [] END |\n",
    "                    MERGE (lc)-[:SUPPORTS]->(ce)\n",
    "                )                    \n",
    "        )\n",
    "        FOREACH (i in CASE \n",
    "                        WHEN trim(row.suggestedPriority)  <> '' \n",
    "                            AND trim(row.suggestedPriority)  <> 'None defined' \n",
    "                        THEN [1] ELSE [] END |\n",
    "                MERGE (priority:Priority {name:trim(row.suggestedPriority)})\n",
    "                MERGE (ctrl)-[:HAS_SUGGESTED_PRIORITY]->(priority)\n",
    "        )\n",
    ")\n",
    "\"\"\"\n",
    "\n",
    "kg.query(catalogue_query)\n"
   ]
  },
  {
   "cell_type": "code",
   "execution_count": 151,
   "id": "b5ac4b8e-72a1-47c7-b39f-fbf2f66b69ce",
   "metadata": {},
   "outputs": [
    {
     "name": "stdout",
     "output_type": "stream",
     "text": [
      "Node properties:\n",
      "Document {name: STRING}\n",
      "Control {supplementalGuidance: STRING, definition: STRING, id: STRING, name: STRING, genTailorAndImplGuidanceNotes: STRING, SecretMMProfileSpecificNotes: STRING, suggestedPBMMPlaceholderValues: STRING, suggestedSecretMMPlaceholderValues: STRING, PBMMProfileSpecificNotes: STRING}\n",
      "Profile {name: STRING}\n",
      "Family {name: STRING}\n",
      "Class {name: STRING}\n",
      "ITSecurity {name: STRING}\n",
      "LearningCenter {name: STRING}\n",
      "Priority {name: STRING}\n",
      "ITOperations {name: STRING}\n",
      "PersonnelSecurity {name: STRING}\n",
      "ITProjects {name: STRING}\n",
      "PhysicalSecurity {name: STRING}\n",
      "ControlEnhancement {id: STRING, definition: STRING, supplementalGuidance: STRING, genTailorAndImplGuidanceNotes: STRING, name: STRING, suggestedSecretMMPlaceholderValues: STRING, suggestedPBMMPlaceholderValues: STRING, PBMMProfileSpecificNotes: STRING, SecretMMProfileSpecificNotes: STRING}\n",
      "Relationship properties:\n",
      "\n",
      "The relationships:\n",
      "(:Control)-[:PART_OF]->(:Family)\n",
      "(:Control)-[:HAS_SUGGESTED_PRIORITY]->(:Priority)\n",
      "(:Control)-[:REFERENCES]->(:Document)\n",
      "(:Family)-[:BELONGS_TO]->(:Class)\n",
      "(:ITSecurity)-[:RESPONSIBLE_FOR]->(:Control)\n",
      "(:ITSecurity)-[:RESPONSIBLE_FOR]->(:ControlEnhancement)\n",
      "(:ITSecurity)-[:SUPPORTS]->(:Control)\n",
      "(:ITSecurity)-[:SUPPORTS]->(:ControlEnhancement)\n",
      "(:LearningCenter)-[:RESPONSIBLE_FOR]->(:Control)\n",
      "(:LearningCenter)-[:SUPPORTS]->(:Control)\n",
      "(:ITOperations)-[:RESPONSIBLE_FOR]->(:Control)\n",
      "(:ITOperations)-[:RESPONSIBLE_FOR]->(:ControlEnhancement)\n",
      "(:ITOperations)-[:SUPPORTS]->(:Control)\n",
      "(:ITOperations)-[:SUPPORTS]->(:ControlEnhancement)\n",
      "(:PersonnelSecurity)-[:SUPPORTS]->(:ControlEnhancement)\n",
      "(:PersonnelSecurity)-[:SUPPORTS]->(:Control)\n",
      "(:PersonnelSecurity)-[:RESPONSIBLE_FOR]->(:ControlEnhancement)\n",
      "(:PersonnelSecurity)-[:RESPONSIBLE_FOR]->(:Control)\n",
      "(:ITProjects)-[:RESPONSIBLE_FOR]->(:Control)\n",
      "(:ITProjects)-[:RESPONSIBLE_FOR]->(:ControlEnhancement)\n",
      "(:ITProjects)-[:SUPPORTS]->(:Control)\n",
      "(:ITProjects)-[:SUPPORTS]->(:ControlEnhancement)\n",
      "(:PhysicalSecurity)-[:RESPONSIBLE_FOR]->(:ControlEnhancement)\n",
      "(:PhysicalSecurity)-[:RESPONSIBLE_FOR]->(:Control)\n",
      "(:PhysicalSecurity)-[:SUPPORTS]->(:ControlEnhancement)\n",
      "(:PhysicalSecurity)-[:SUPPORTS]->(:Control)\n",
      "(:ControlEnhancement)-[:ENHANCES]->(:Control)\n",
      "(:ControlEnhancement)-[:PART_OF]->(:Family)\n"
     ]
    }
   ],
   "source": [
    "kg.refresh_schema()\n",
    "print(kg.schema)\n",
    "chain = GraphCypherQAChain.from_llm(graph=kg, llm=llm, verbose=True)"
   ]
  },
  {
   "cell_type": "code",
   "execution_count": 153,
   "id": "7f820b7c-e3a9-4daf-bd24-f653c10df3b4",
   "metadata": {},
   "outputs": [
    {
     "name": "stdout",
     "output_type": "stream",
     "text": [
      "\n",
      "\n",
      "\u001b[1m> Entering new GraphCypherQAChain chain...\u001b[0m\n",
      "Generated Cypher:\n",
      "\u001b[32;1m\u001b[1;3mMATCH (c:ControlEnhancement)-[:ENHANCES]->(control:Control)\n",
      "WHERE control.id = \"AC-2\"\n",
      "RETURN c;\u001b[0m\n",
      "Full Context:\n",
      "\u001b[32;1m\u001b[1;3m[{'c': {'name': 'ACCOUNT MANAGEMENT', 'definition': 'ACCOUNT MANAGEMENT | SHARED / GROUP ACCOUNT CREDENTIAL TERMINATION\\nThe information system terminates shared/group account credentials when members leave the group.', 'id': 'AC-2-(10)\\t'}}, {'c': {'name': 'ACCOUNT MANAGEMENT', 'definition': 'ACCOUNT MANAGEMENT | DISABLE ACCOUNTS FOR HIGH-RISK INDIVIDUALS\\nThe organization disables accounts of users posing a significant risk within [Assignment: organization-defined time period] of discovery of the risk.', 'id': 'AC-2-(13)\\t', 'supplementalGuidance': 'Users posing a significant risk to organizations include individuals for whom reliable evidence or intelligence indicates either the intention to use authorized access to information systems to cause harm or through whom adversaries will cause harm. Harm includes potential adverse impacts to organizational operations and assets, individuals, other organizations, or Canada. Close coordination between authorizing officials, information system administrators, and human resource managers is essential in order for timely execution of this control enhancement. Related controls: PS-4.'}}, {'c': {'suggestedPBMMPlaceholderValues': '(2) time period [organization-defined]', 'suggestedSecretMMPlaceholderValues': '(2) time period [organization-defined]', 'name': 'ACCOUNT MANAGEMENT', 'definition': 'ACCOUNT MANAGEMENT | REMOVAL OF TEMPORARY / EMERGENCY ACCOUNTS\\nThe information system automatically [Selection: removes; disables] temporary and emergency accounts after [Assignment: organization-defined time period for each type of account].', 'id': 'AC-2-(2)\\t', 'supplementalGuidance': 'This control enhancement requires the removal of both temporary and emergency accounts automatically after a predefined period of time has elapsed, rather than at the convenience of the systems administrator.'}}, {'c': {'name': 'ACCOUNT MANAGEMENT', 'definition': 'ACCOUNT MANAGEMENT | DYNAMIC ACCOUNT CREATION\\nThe information system creates [Assignment: organization-defined information system accounts] dynamically.', 'id': 'AC-2-(8)\\t', 'supplementalGuidance': 'Dynamic approaches for creating information system accounts (e.g., as implemented within service-oriented architectures) rely on establishing accounts (identities) at run time for entities that were previously unknown. Organizations plan for dynamic creation of information system accounts by establishing trust relationships and mechanisms with the appropriate authorities to validate related authorizations and privileges. Related controls: AC-16.'}}, {'c': {'suggestedPBMMPlaceholderValues': '(5a) time period [end of business day]', 'suggestedSecretMMPlaceholderValues': '(5a) time period [end of business day]', 'genTailorAndImplGuidanceNotes': 'Users should be required to log out at the end of the business day in order to enable the organization to apply the appropriate patches to the operating system. Organizations are typically unable to patch the operating system when a user has an active session.', 'name': 'ACCOUNT MANAGEMENT', 'definition': 'ACCOUNT MANAGEMENT | INACTIVITY LOGOUT\\nThe organization requires that users log out when [Assignment: organization-defined time-period of expected inactivity or description of when to log out]. Related controls: SC-23', 'id': 'AC-2-(5)\\t'}}, {'c': {'genTailorAndImplGuidanceNotes': 'This security control/enhancement can be met using readily available Commercial-Off-The-Shelf (COTS) components, and is considered to be best practice. Consequently, inclusion of this security control/enhancement is strongly encouraged in most cases.\\nThe minimization of administrative privileges is an account management best-practice.', 'name': 'ACCOUNT MANAGEMENT', 'definition': 'ACCOUNT MANAGEMENT | ROLE-BASED SCHEMES\\n(a)\\tThe organization establishes and administers privileged user accounts in accordance with a role-based access scheme that organizes allowed information system access and privileges into roles;\\n(b)\\tThe organization monitors privileged role assignments; and\\n(c)\\tThe organization takes [Assignment: organization-defined actions] when privileged role assignments are no longer appropriate.', 'id': 'AC-2-(7)\\t', 'supplementalGuidance': 'Privileged roles are organization-defined roles assigned to individuals that allow those individuals to perform certain security-relevant functions that ordinary users are not authorized to perform. These privileged roles include, for example, key management, account management, network and system administration, database administration, and web administration.'}}, {'c': {'name': 'ACCOUNT MANAGEMENT', 'definition': 'ACCOUNT MANAGEMENT | RESTRICTIONS ON USE OF SHARED GROUPS / ACCOUNTS\\nThe organization only permits the use of shared/group accounts that meet [Assignment: organization-defined conditions for establishing shared/group accounts].', 'id': 'AC-2-(9)\\t'}}, {'c': {'genTailorAndImplGuidanceNotes': 'This security control/enhancement can be met using readily available Commercial-Off-The-Shelf (COTS) components. Consequently, inclusion of this security control/enhancement is strongly encouraged in most cases.', 'name': 'ACCOUNT MANAGEMENT', 'definition': 'ACCOUNT MANAGEMENT | AUTOMATED SYSTEM ACCOUNT MANAGEMENT\\nThe organization employs automated mechanisms to support the management of information system accounts.', 'id': 'AC-2-(1)\\t', 'supplementalGuidance': 'The use of automated mechanisms can include, for example: using email or text messaging to automatically notify account managers when users are terminated or transferred; using the information system to monitor account usage; and using telephonic notification to report atypical system account usage.'}}, {'c': {'name': 'ACCOUNT MANAGEMENT', 'definition': 'ACCOUNT MANAGEMENT | AUTOMATED AUDIT ACTIONS\\nThe information system automatically audits account creation, modification, enabling, disabling, and removal actions, and notifies [Assignment: organization-defined personnel or roles]. Related controls: AU-2, AU-12.', 'id': 'AC-2-(4)\\t'}}, {'c': {'suggestedPBMMPlaceholderValues': '(3) time period [not to exceed 30 days]', 'suggestedSecretMMPlaceholderValues': '(3) time period [not to exceed 30 days]', 'genTailorAndImplGuidanceNotes': 'This security control/enhancement requires careful balance between usability and security. Care needs to be taken to ensure that the appropriate balance between the two seemingly conflicting requirements is achieved.\\nDisabling an account is understood to be the equivalent of locking an account. The account can easily be reactivated (unlocked) by an authorized administrator.', 'name': 'ACCOUNT MANAGEMENT', 'definition': 'ACCOUNT MANAGEMENT | DISABLE INACTIVE ACCOUNTS\\nThe information system automatically disables inactive accounts after [Assignment: organization-defined time period].', 'id': 'AC-2-(3)\\t'}}]\u001b[0m\n",
      "\n",
      "\u001b[1m> Finished chain.\u001b[0m\n"
     ]
    },
    {
     "data": {
      "text/plain": [
       "{'query': \"ControlEhancement enhances Control. Are there any for control 'AC-2'?\",\n",
       " 'result': \"Yes, there are several enhancements related to the control 'AC-2'. These include ACCOUNT MANAGEMENT | AUTOMATED SYSTEM ACCOUNT MANAGEMENT which employs automated mechanisms to support the management of information system accounts. Additionally, ACCOUNT MANAGEMENT | DISABLE INACTIVE ACCOUNTS automatically disables inactive accounts after a predefined time period as defined by the organization.\"}"
      ]
     },
     "execution_count": 153,
     "metadata": {},
     "output_type": "execute_result"
    }
   ],
   "source": [
    "response = chain.invoke({\"query\": \"ControlEhancement enhances Control. Are there any for control 'AC-2'?\"})\n",
    "response"
   ]
  },
  {
   "cell_type": "code",
   "execution_count": 156,
   "id": "efed18c4-c3cf-4ad1-ac91-74ebed16f7bc",
   "metadata": {},
   "outputs": [
    {
     "name": "stdout",
     "output_type": "stream",
     "text": [
      "\n",
      "\n",
      "\u001b[1m> Entering new GraphCypherQAChain chain...\u001b[0m\n",
      "Generated Cypher:\n",
      "\u001b[32;1m\u001b[1;3mMATCH (c:ControlEnhancement)-[:ENHANCES]->(control:Control {id:'AC-2'}) RETURN c;\u001b[0m\n",
      "Full Context:\n",
      "\u001b[32;1m\u001b[1;3m[{'c': {'name': 'ACCOUNT MANAGEMENT', 'definition': 'ACCOUNT MANAGEMENT | SHARED / GROUP ACCOUNT CREDENTIAL TERMINATION\\nThe information system terminates shared/group account credentials when members leave the group.', 'id': 'AC-2-(10)\\t'}}, {'c': {'name': 'ACCOUNT MANAGEMENT', 'definition': 'ACCOUNT MANAGEMENT | DISABLE ACCOUNTS FOR HIGH-RISK INDIVIDUALS\\nThe organization disables accounts of users posing a significant risk within [Assignment: organization-defined time period] of discovery of the risk.', 'id': 'AC-2-(13)\\t', 'supplementalGuidance': 'Users posing a significant risk to organizations include individuals for whom reliable evidence or intelligence indicates either the intention to use authorized access to information systems to cause harm or through whom adversaries will cause harm. Harm includes potential adverse impacts to organizational operations and assets, individuals, other organizations, or Canada. Close coordination between authorizing officials, information system administrators, and human resource managers is essential in order for timely execution of this control enhancement. Related controls: PS-4.'}}, {'c': {'suggestedPBMMPlaceholderValues': '(2) time period [organization-defined]', 'suggestedSecretMMPlaceholderValues': '(2) time period [organization-defined]', 'name': 'ACCOUNT MANAGEMENT', 'definition': 'ACCOUNT MANAGEMENT | REMOVAL OF TEMPORARY / EMERGENCY ACCOUNTS\\nThe information system automatically [Selection: removes; disables] temporary and emergency accounts after [Assignment: organization-defined time period for each type of account].', 'id': 'AC-2-(2)\\t', 'supplementalGuidance': 'This control enhancement requires the removal of both temporary and emergency accounts automatically after a predefined period of time has elapsed, rather than at the convenience of the systems administrator.'}}, {'c': {'name': 'ACCOUNT MANAGEMENT', 'definition': 'ACCOUNT MANAGEMENT | DYNAMIC ACCOUNT CREATION\\nThe information system creates [Assignment: organization-defined information system accounts] dynamically.', 'id': 'AC-2-(8)\\t', 'supplementalGuidance': 'Dynamic approaches for creating information system accounts (e.g., as implemented within service-oriented architectures) rely on establishing accounts (identities) at run time for entities that were previously unknown. Organizations plan for dynamic creation of information system accounts by establishing trust relationships and mechanisms with the appropriate authorities to validate related authorizations and privileges. Related controls: AC-16.'}}, {'c': {'suggestedPBMMPlaceholderValues': '(5a) time period [end of business day]', 'suggestedSecretMMPlaceholderValues': '(5a) time period [end of business day]', 'genTailorAndImplGuidanceNotes': 'Users should be required to log out at the end of the business day in order to enable the organization to apply the appropriate patches to the operating system. Organizations are typically unable to patch the operating system when a user has an active session.', 'name': 'ACCOUNT MANAGEMENT', 'definition': 'ACCOUNT MANAGEMENT | INACTIVITY LOGOUT\\nThe organization requires that users log out when [Assignment: organization-defined time-period of expected inactivity or description of when to log out]. Related controls: SC-23', 'id': 'AC-2-(5)\\t'}}, {'c': {'genTailorAndImplGuidanceNotes': 'This security control/enhancement can be met using readily available Commercial-Off-The-Shelf (COTS) components, and is considered to be best practice. Consequently, inclusion of this security control/enhancement is strongly encouraged in most cases.\\nThe minimization of administrative privileges is an account management best-practice.', 'name': 'ACCOUNT MANAGEMENT', 'definition': 'ACCOUNT MANAGEMENT | ROLE-BASED SCHEMES\\n(a)\\tThe organization establishes and administers privileged user accounts in accordance with a role-based access scheme that organizes allowed information system access and privileges into roles;\\n(b)\\tThe organization monitors privileged role assignments; and\\n(c)\\tThe organization takes [Assignment: organization-defined actions] when privileged role assignments are no longer appropriate.', 'id': 'AC-2-(7)\\t', 'supplementalGuidance': 'Privileged roles are organization-defined roles assigned to individuals that allow those individuals to perform certain security-relevant functions that ordinary users are not authorized to perform. These privileged roles include, for example, key management, account management, network and system administration, database administration, and web administration.'}}, {'c': {'name': 'ACCOUNT MANAGEMENT', 'definition': 'ACCOUNT MANAGEMENT | RESTRICTIONS ON USE OF SHARED GROUPS / ACCOUNTS\\nThe organization only permits the use of shared/group accounts that meet [Assignment: organization-defined conditions for establishing shared/group accounts].', 'id': 'AC-2-(9)\\t'}}, {'c': {'genTailorAndImplGuidanceNotes': 'This security control/enhancement can be met using readily available Commercial-Off-The-Shelf (COTS) components. Consequently, inclusion of this security control/enhancement is strongly encouraged in most cases.', 'name': 'ACCOUNT MANAGEMENT', 'definition': 'ACCOUNT MANAGEMENT | AUTOMATED SYSTEM ACCOUNT MANAGEMENT\\nThe organization employs automated mechanisms to support the management of information system accounts.', 'id': 'AC-2-(1)\\t', 'supplementalGuidance': 'The use of automated mechanisms can include, for example: using email or text messaging to automatically notify account managers when users are terminated or transferred; using the information system to monitor account usage; and using telephonic notification to report atypical system account usage.'}}, {'c': {'name': 'ACCOUNT MANAGEMENT', 'definition': 'ACCOUNT MANAGEMENT | AUTOMATED AUDIT ACTIONS\\nThe information system automatically audits account creation, modification, enabling, disabling, and removal actions, and notifies [Assignment: organization-defined personnel or roles]. Related controls: AU-2, AU-12.', 'id': 'AC-2-(4)\\t'}}, {'c': {'suggestedPBMMPlaceholderValues': '(3) time period [not to exceed 30 days]', 'suggestedSecretMMPlaceholderValues': '(3) time period [not to exceed 30 days]', 'genTailorAndImplGuidanceNotes': 'This security control/enhancement requires careful balance between usability and security. Care needs to be taken to ensure that the appropriate balance between the two seemingly conflicting requirements is achieved.\\nDisabling an account is understood to be the equivalent of locking an account. The account can easily be reactivated (unlocked) by an authorized administrator.', 'name': 'ACCOUNT MANAGEMENT', 'definition': 'ACCOUNT MANAGEMENT | DISABLE INACTIVE ACCOUNTS\\nThe information system automatically disables inactive accounts after [Assignment: organization-defined time period].', 'id': 'AC-2-(3)\\t'}}]\u001b[0m\n",
      "\n",
      "\u001b[1m> Finished chain.\u001b[0m\n"
     ]
    },
    {
     "data": {
      "text/plain": [
       "{'query': \"ControlEnahancement enhances Control. List all of those ControlEnahancements for control 'AC-2'?\",\n",
       " 'result': \"The following Account Management Control Enhancements are associated with the control 'AC-2':\\n\\n1. AC-2-(1): Automated System Account Management - The organization employs automated mechanisms to support the management of information system accounts.\\n\\n2. AC-2-(4): Automated Audit Actions - The information system automatically audits account creation, modification, enabling, disabling, and removal actions, and notifies designated personnel or roles.\\n\\n3. AC-2-(7)(a): Role-Based Schemes for Privileged User Accounts - The organization establishes and administers privileged user accounts in accordance with a role-based access scheme that organizes allowed information system access and privileges into roles.\\n\\n4. AC-2-(9): Restrictions on Use of Shared/Group Accounts - Only permits the use of shared/group accounts that meet organization-defined conditions for establishing such accounts.\\n\\n5. AC-2-(10): Automated System Account Management - The information system automatically disables inactive accounts after an assigned time period, ensuring a balance between usability and security.\"}"
      ]
     },
     "execution_count": 156,
     "metadata": {},
     "output_type": "execute_result"
    }
   ],
   "source": [
    "response = chain.invoke({\"query\": \"ControlEnahancement enhances Control. List all of those ControlEnahancements for control 'AC-2'?\"})\n",
    "response"
   ]
  },
  {
   "cell_type": "code",
   "execution_count": null,
   "id": "620cf761-6647-4748-8278-f25a476f874b",
   "metadata": {},
   "outputs": [],
   "source": []
  }
 ],
 "metadata": {
  "kernelspec": {
   "display_name": "Python 3 (ipykernel)",
   "language": "python",
   "name": "python3"
  },
  "language_info": {
   "codemirror_mode": {
    "name": "ipython",
    "version": 3
   },
   "file_extension": ".py",
   "mimetype": "text/x-python",
   "name": "python",
   "nbconvert_exporter": "python",
   "pygments_lexer": "ipython3",
   "version": "3.11.7"
  }
 },
 "nbformat": 4,
 "nbformat_minor": 5
}
